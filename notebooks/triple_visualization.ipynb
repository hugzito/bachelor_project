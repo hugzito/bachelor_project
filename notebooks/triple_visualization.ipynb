{
 "cells": [
  {
   "attachments": {},
   "cell_type": "markdown",
   "metadata": {},
   "source": [
    "# Triple Vizualization\n",
    "\n",
    "## Chosen subreddits:\n",
    " - News\n",
    " - WorldNews\n",
    " - Cooking\n",
    "\n",
    "Chosen because News and WorldNews are similar subreddits and have opposing results\n",
    "\n",
    "## Visualizations to show:\n",
    " - The network structure\n",
    " - Title embedding distributions\n",
    " - Sentiment distributions\n",
    " - Ideological distance number\n",
    " - Relational Component Score"
   ]
  },
  {
   "attachments": {},
   "cell_type": "markdown",
   "metadata": {},
   "source": [
    "### Network Structures\n",
    "\n",
    "Found under \"data/network_plots\""
   ]
  },
  {
   "attachments": {},
   "cell_type": "markdown",
   "metadata": {},
   "source": [
    "### Title Embedding Distributions\n",
    "\n",
    "Found under \"data/plots/titles_\\<SUBREDDIT_NAME\\>.png\""
   ]
  },
  {
   "attachments": {},
   "cell_type": "markdown",
   "metadata": {},
   "source": [
    "### Sentiment Distributions\n",
    "\n",
    "Found under \"data/plots/sentiments_\\<SUBREDDIT_NAME\\>.png\""
   ]
  },
  {
   "attachments": {},
   "cell_type": "markdown",
   "metadata": {},
   "source": [
    "### Ideological Distance Numbers\n",
    "\n",
    "(Copy pasted from summary_stats notebook)\n",
    "\n",
    " - News: 56.999132\n",
    " - worldnews: 48.764655\n",
    " - Cooking: 61.603669"
   ]
  },
  {
   "attachments": {},
   "cell_type": "markdown",
   "metadata": {},
   "source": [
    "### Relational Component Score Numbers\n",
    "\n",
    "(Copy pasted from summary_stats notebook)\n",
    "\n",
    " - News: -0.141636\n",
    " - worldnews: 0.092681\n",
    " - Cooking: -0.361591"
   ]
  }
 ],
 "metadata": {
  "language_info": {
   "name": "python"
  },
  "orig_nbformat": 4
 },
 "nbformat": 4,
 "nbformat_minor": 2
}
