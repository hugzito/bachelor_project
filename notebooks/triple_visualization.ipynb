{
 "cells": [
  {
   "cell_type": "code",
   "execution_count": null,
   "metadata": {},
   "outputs": [],
   "source": [
    "# imports\n",
    "import sys\n",
    "sys.path.append('../')\n",
    "from py_files.distribution_graphs import *\n",
    "\n",
    "import seaborn as sns\n",
    "import matplotlib.pyplot as plt\n",
    "from matplotlib.collections import LineCollection\n",
    "from matplotlib.patches import PathPatch\n",
    "import pandas as pd\n",
    "import numpy as np\n",
    "\n",
    "sns.set_style('darkgrid')\n",
    "sns.set(rc={\"figure.dpi\":300, 'savefig.dpi':300})"
   ]
  },
  {
   "attachments": {},
   "cell_type": "markdown",
   "metadata": {},
   "source": [
    "# Triple Vizualization\n",
    "\n",
    "## Chosen subreddits:\n",
    " - News\n",
    " - WorldNews\n",
    " - Cooking\n",
    "\n",
    "Chosen because News and WorldNews are similar subreddits and have opposing results\n",
    "\n",
    "## Visualizations to show:\n",
    " - The network structure\n",
    " - Title embedding distributions\n",
    " - Sentiment distributions\n",
    " - Ideological distance number\n",
    " - Relational Component Score"
   ]
  },
  {
   "attachments": {},
   "cell_type": "markdown",
   "metadata": {},
   "source": [
    "### Network Structures\n",
    "\n",
    "Found under \"data/network_plots\""
   ]
  },
  {
   "attachments": {},
   "cell_type": "markdown",
   "metadata": {},
   "source": [
    "### Title Embedding Distributions\n",
    "\n",
    "Found under \"data/plots/titles_\\<SUBREDDIT_NAME\\>.png\""
   ]
  },
  {
   "cell_type": "code",
   "execution_count": null,
   "metadata": {},
   "outputs": [],
   "source": [
    "# news - left graph\n",
    "embeds = get_title_embeddings('../data/date_folders/april_24/graphs/News.gexf')\n",
    "# data = pd.DataFrame(embeds, columns=['embeds'])\n",
    "data=embeds\n",
    "\n",
    "ax = sns.kdeplot(x=data, bw_adjust=.3)\n",
    "print(ax)\n",
    "x, y = ax.get_lines()[0].get_data()\n",
    "segments = np.array([x[:-1], y[:-1], x[1:], y[1:]]).T.reshape(-1, 2, 2)\n",
    "norm = plt.Normalize(-10, 10)\n",
    "lc = LineCollection(segments, cmap='coolwarm_r', norm=norm)\n",
    "lc.set_array(x[:-1])\n",
    "lc.set_linewidth(2)\n",
    "ax.get_lines()[0].remove()\n",
    "line = ax.add_collection(lc)\n",
    "# ax.fill_between(x, y, cmap='coolwarm_r')\n",
    "ax.margins(x=0)\n",
    "ax.set_ylim(ymin=0)\n",
    "ax.set_xlim(xmin=-11.5, xmax=16.5)\n",
    "\n",
    "plt.ylabel('Density', fontsize=25)\n",
    "plt.xlabel('Embeddings', fontsize=25, color='white')\n",
    "\n",
    "plt.savefig('../data/plots/TITLE_NEWS.png', bbox_inches='tight')\n",
    "plt.show()"
   ]
  },
  {
   "cell_type": "code",
   "execution_count": null,
   "metadata": {},
   "outputs": [],
   "source": [
    "# worldnews - middle graph\n",
    "embeds = get_title_embeddings('../data/date_folders/april_23/graphs/worldnews.gexf')\n",
    "# data = pd.DataFrame(embeds, columns=['embeds'])\n",
    "data=embeds\n",
    "\n",
    "ax = sns.kdeplot(x=data, bw_adjust=.3)\n",
    "print(ax)\n",
    "x, y = ax.get_lines()[0].get_data()\n",
    "segments = np.array([x[:-1], y[:-1], x[1:], y[1:]]).T.reshape(-1, 2, 2)\n",
    "norm = plt.Normalize(-10, 10)\n",
    "lc = LineCollection(segments, cmap='coolwarm_r', norm=norm)\n",
    "lc.set_array(x[:-1])\n",
    "lc.set_linewidth(2)\n",
    "ax.get_lines()[0].remove()\n",
    "line = ax.add_collection(lc)\n",
    "# ax.fill_between(x, y, cmap='coolwarm_r')\n",
    "ax.margins(x=0)\n",
    "ax.set_ylim(ymin=0)\n",
    "ax.set_xlim(xmin=-11.5, xmax=16.5)\n",
    "\n",
    "im = ax.imshow(np.vstack([x,x]), aspect='auto', extent=[*ax.get_xlim(), *ax.get_ylim()], cmap='coolwarm_r', zorder=10)\n",
    "path = ax.collections[0].get_paths()[0]\n",
    "patch = PathPatch(path, transform=ax.transData)\n",
    "im.set_clip_path(patch)\n",
    "\n",
    "plt.ylabel('Density', fontsize=25, color='white')\n",
    "plt.xlabel('Embeddings', fontsize=25)\n",
    "\n",
    "plt.savefig('../data/plots/TITLE_WORLDNEWS.png', bbox_inches='tight')\n",
    "plt.show()"
   ]
  },
  {
   "cell_type": "code",
   "execution_count": null,
   "metadata": {},
   "outputs": [],
   "source": [
    "# worldnews - middle graph\n",
    "embeds = get_title_embeddings('../data/date_folders/may_7/graphs/Cooking.gexf')\n",
    "data=embeds\n",
    "\n",
    "ax = sns.kdeplot(x=data, bw_adjust=.3)\n",
    "print(ax)\n",
    "x, y = ax.get_lines()[0].get_data()\n",
    "segments = np.array([x[:-1], y[:-1], x[1:], y[1:]]).T.reshape(-1, 2, 2)\n",
    "norm = plt.Normalize(-10, 10)\n",
    "lc = LineCollection(segments, cmap='coolwarm_r', norm=norm)\n",
    "lc.set_array(x[:-1])\n",
    "lc.set_linewidth(2)\n",
    "ax.get_lines()[0].remove()\n",
    "line = ax.add_collection(lc)\n",
    "# ax.fill_between(x, y, cmap='coolwarm_r')\n",
    "ax.margins(x=0)\n",
    "ax.set_ylim(ymin=0)\n",
    "ax.set_xlim(xmin=-11.5, xmax=16.5)\n",
    "\n",
    "im = ax.imshow(np.vstack([x,x]), aspect='auto', extent=[*ax.get_xlim(), *ax.get_ylim()], cmap='coolwarm_r', zorder=10)\n",
    "path = ax.collections[0].get_paths()[0]\n",
    "patch = PathPatch(path, transform=ax.transData)\n",
    "im.set_clip_path(patch)\n",
    "\n",
    "plt.ylabel('Density', fontsize=25, color='white')\n",
    "plt.xlabel('Embeddings', fontsize=25, color='white')\n",
    "\n",
    "plt.savefig('../data/plots/TITLE_COOKING.png', bbox_inches='tight')\n",
    "plt.show()"
   ]
  },
  {
   "attachments": {},
   "cell_type": "markdown",
   "metadata": {},
   "source": [
    "### Sentiment Distributions\n",
    "\n",
    "Found under \"data/plots/sentiments_\\<SUBREDDIT_NAME\\>.png\""
   ]
  },
  {
   "cell_type": "code",
   "execution_count": null,
   "metadata": {},
   "outputs": [],
   "source": [
    "# news - leftmost graph\n",
    "sentiments = get_comment_sentiments('../data/date_folders/april_24/graphs/News.gexf')\n",
    "data = pd.DataFrame(sentiments, columns=['sentiments'])\n",
    "\n",
    "cm = plt.cm.get_cmap('coolwarm_r')\n",
    "\n",
    "n, bins, patches = plt.hist(data, 21, density=True, range=(-1,1))\n",
    "bin_centers = 0.5 * (bins[:-1] + bins[1:])\n",
    "\n",
    "col = bin_centers - min(bin_centers)\n",
    "col /= max(col)\n",
    "\n",
    "for c, p in zip(col, patches):\n",
    "    plt.setp(p, 'facecolor', cm(c))\n",
    "\n",
    "plt.ylabel('Density', fontsize=25)\n",
    "plt.xlabel('Sentiment', fontsize=25, color='white')\n",
    "plt.ylim(top=3)  # adjust the top leaving bottom unchanged\n",
    "plt.xticks(np.arange(-1, 1.1, step=0.5))\n",
    "\n",
    "plt.savefig('../data/plots/SENTIMENT_NEWS.png', bbox_inches='tight')\n",
    "plt.show()"
   ]
  },
  {
   "cell_type": "code",
   "execution_count": null,
   "metadata": {},
   "outputs": [],
   "source": [
    "# worldnews - middle graph\n",
    "sentiments = get_comment_sentiments('../data/date_folders/april_23/graphs/worldnews.gexf')\n",
    "data = pd.DataFrame(sentiments, columns=['sentiments'])\n",
    "\n",
    "cm = plt.cm.get_cmap('coolwarm_r')\n",
    "\n",
    "n, bins, patches = plt.hist(data, 21, density=True, range=(-1,1))\n",
    "bin_centers = 0.5 * (bins[:-1] + bins[1:])\n",
    "\n",
    "col = bin_centers - min(bin_centers)\n",
    "col /= max(col)\n",
    "\n",
    "for c, p in zip(col, patches):\n",
    "    plt.setp(p, 'facecolor', cm(c))\n",
    "\n",
    "plt.xlabel('Sentiment', fontsize=25)\n",
    "plt.ylim(top=3)  # adjust the top leaving bottom unchanged\n",
    "plt.xticks(np.arange(-1, 1.1, step=0.5))\n",
    "plt.ylabel('Density', fontsize=25, color='white')\n",
    "\n",
    "plt.savefig('../data/plots/SENTIMENT_WORLDNEWS.png', bbox_inches='tight')\n",
    "plt.show()"
   ]
  },
  {
   "cell_type": "code",
   "execution_count": null,
   "metadata": {},
   "outputs": [],
   "source": [
    "# cooking - right graph\n",
    "sentiments = get_comment_sentiments('../data/date_folders/may_7/graphs/Cooking.gexf')\n",
    "data = pd.DataFrame(sentiments, columns=['sentiments'])\n",
    "\n",
    "cm = plt.cm.get_cmap('coolwarm_r')\n",
    "\n",
    "n, bins, patches = plt.hist(data, 21, density=True, range=(-1,1))\n",
    "bin_centers = 0.5 * (bins[:-1] + bins[1:])\n",
    "\n",
    "col = bin_centers - min(bin_centers)\n",
    "col /= max(col)\n",
    "\n",
    "for c, p in zip(col, patches):\n",
    "    plt.setp(p, 'facecolor', cm(c))\n",
    "\n",
    "plt.ylabel('Density', fontsize=25, color='white')\n",
    "plt.xlabel('Sentiment', fontsize=25, color='white')\n",
    "plt.xticks(np.arange(-1, 1.1, step=0.5))\n",
    "plt.ylim(top=3)  # adjust the top leaving bottom unchanged\n",
    "\n",
    "plt.savefig('../data/plots/SENTIMENT_COOKING.png', bbox_inches='tight')\n",
    "plt.show()"
   ]
  },
  {
   "attachments": {},
   "cell_type": "markdown",
   "metadata": {},
   "source": [
    "### Ideological Distance Numbers\n",
    "\n",
    "(Copy pasted from summary_stats notebook)\n",
    "\n",
    " - News: 56.999132\n",
    " - worldnews: 48.764655\n",
    " - Cooking: 61.603669"
   ]
  },
  {
   "attachments": {},
   "cell_type": "markdown",
   "metadata": {},
   "source": [
    "### Relational Component Score Numbers\n",
    "\n",
    "(Copy pasted from summary_stats notebook)\n",
    "\n",
    " - News: -0.141636\n",
    " - worldnews: 0.092681\n",
    " - Cooking: -0.361591"
   ]
  }
 ],
 "metadata": {
  "kernelspec": {
   "display_name": "thesis",
   "language": "python",
   "name": "python3"
  },
  "language_info": {
   "codemirror_mode": {
    "name": "ipython",
    "version": 3
   },
   "file_extension": ".py",
   "mimetype": "text/x-python",
   "name": "python",
   "nbconvert_exporter": "python",
   "pygments_lexer": "ipython3",
   "version": "3.11.2"
  },
  "orig_nbformat": 4
 },
 "nbformat": 4,
 "nbformat_minor": 2
}
