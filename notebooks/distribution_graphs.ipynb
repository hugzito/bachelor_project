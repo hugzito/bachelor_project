{
 "cells": [
  {
   "attachments": {},
   "cell_type": "markdown",
   "metadata": {},
   "source": [
    "## For making and saving distribution graphs of networks\n",
    "\n",
    "For each network will make two distribution graphs\n",
    "\n",
    "### Node title embeddings\n",
    "\n",
    "Each node in our networks have title embeddings which we use in both of our measures (from micheles algorithm(s)).\n",
    "\n",
    "Made distribution graphs, where we can see if there are concentrations of common title embeddings.\n",
    "\n",
    "### Edge sentiments\n",
    "\n",
    "Each edge in our networks have a sentiment value which we use in our correlation measure.\n",
    "\n",
    "Made distribution bar plots."
   ]
  },
  {
   "attachments": {},
   "cell_type": "markdown",
   "metadata": {},
   "source": [
    "### Run below to create plots and save them"
   ]
  },
  {
   "cell_type": "code",
   "execution_count": null,
   "metadata": {},
   "outputs": [],
   "source": [
    "import sys\n",
    "sys.path.append('../')\n",
    "from py_files.distribution_graphs import *"
   ]
  },
  {
   "cell_type": "code",
   "execution_count": null,
   "metadata": {},
   "outputs": [],
   "source": [
    "# list of subreddits and paths to the folder containign their .gexf files\n",
    "network_list = [['gaming', '../data/date_folders/april_4/graphs/'],\n",
    "                ['antiwork', '../data/date_folders/april_17/graphs/'],\n",
    "                ['politics', '../data/date_folders/march_23/graphs/'],\n",
    "                ['music', '../data/date_folders/april_2/graphs/'],\n",
    "                ['worldnews', '../data/date_folders/april_23/graphs/'],\n",
    "                ['ukpolitics', '../data/date_folders/april_23/graphs/'],\n",
    "                ['democrats', '../data/date_folders/april_23/graphs/'],\n",
    "                ['worldnews', '../data/date_folders/april_23/graphs/'],\n",
    "                ['Republican', '../data/date_folders/april_23/graphs/'],\n",
    "                ['PoliticalDiscussion', '../data/date_folders/april_23/graphs/'],\n",
    "                ['communism', '../data/date_folders/april_24/graphs/'],\n",
    "                ['FIFA', '../data/date_folders/april_18/graphs/'],\n",
    "                ['CallOfDuty', '../data/date_folders/april_18/graphs/'],\n",
    "                ['News', '../data/date_folders/april_24/graphs/']]"
   ]
  },
  {
   "cell_type": "code",
   "execution_count": null,
   "metadata": {},
   "outputs": [],
   "source": [
    "for subreddit, filepath in network_list:\n",
    "    do_both_save(subreddit, filepath)"
   ]
  }
 ],
 "metadata": {
  "kernelspec": {
   "display_name": "thesis",
   "language": "python",
   "name": "python3"
  },
  "language_info": {
   "codemirror_mode": {
    "name": "ipython",
    "version": 3
   },
   "file_extension": ".py",
   "mimetype": "text/x-python",
   "name": "python",
   "nbconvert_exporter": "python",
   "pygments_lexer": "ipython3",
   "version": "3.11.2"
  },
  "orig_nbformat": 4
 },
 "nbformat": 4,
 "nbformat_minor": 2
}
