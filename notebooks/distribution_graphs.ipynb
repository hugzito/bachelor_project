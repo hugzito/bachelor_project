{
 "cells": [
  {
   "attachments": {},
   "cell_type": "markdown",
   "metadata": {},
   "source": [
    "## For making and saving distribution graphs of networks\n",
    "\n",
    "For each network will make two distribution graphs\n",
    "\n",
    "### Node title embeddings\n",
    "\n",
    "Each node in our networks have title embeddings which we use in both of our measures (from micheles algorithm(s)).\n",
    "\n",
    "Want to make a distribution graph of them, where we could possibly end up with two humps.\n",
    "\n",
    "### Edge sentiments\n",
    "\n",
    "Each edge in our networks have a sentiment value which we use in our correlation measure.\n",
    "\n",
    "Want to make a distribution graph."
   ]
  },
  {
   "attachments": {},
   "cell_type": "markdown",
   "metadata": {},
   "source": [
    "### Node title embeddings"
   ]
  },
  {
   "cell_type": "code",
   "execution_count": null,
   "metadata": {},
   "outputs": [],
   "source": [
    "import seaborn as sns\n",
    "import networkx as nx"
   ]
  },
  {
   "cell_type": "code",
   "execution_count": null,
   "metadata": {},
   "outputs": [],
   "source": [
    "def get_title_embeddings(subreddit, path):\n",
    "    '''Given a subreddit name and path to where the graph is stored,\n",
    "       gets title embeddings, puts them to a list and returns that list.'''\n",
    "    \n",
    "    full_path = path + subreddit + '.gexf'\n",
    "\n",
    "    G = nx.read_gexf(full_path)\n",
    "\n",
    "    polarities = []\n",
    "    for node in G.nodes(data=True):\n",
    "        polarities.append(node[1]['polarity'])\n",
    "   \n",
    "    return polarities"
   ]
  },
  {
   "cell_type": "code",
   "execution_count": null,
   "metadata": {},
   "outputs": [],
   "source": [
    "def get_comment_sentiments(subreddit, path):\n",
    "    '''Given a subreddit name and path to where its graph is stored,\n",
    "       creates and returns a list of all comment sentiment scores'''\n",
    "    \n",
    "    full_path = path + subreddit + '.gexf'\n",
    "\n",
    "    G = nx.read_gexf(full_path)\n",
    "\n",
    "    sign_list = []\n",
    "    sentiment_list = []\n",
    "    for edge in list(G.edges(data=True)):\n",
    "      sentiment = edge[2]['sentiment']\n",
    "      sign = edge[2]['sign']\n",
    "\n",
    "      if sign == -1:\n",
    "         sentiment = 1-sentiment\n",
    "\n",
    "      sentiment_list.append(sentiment)\n",
    "\n",
    "    return sentiment_list"
   ]
  },
  {
   "cell_type": "code",
   "execution_count": null,
   "metadata": {},
   "outputs": [],
   "source": [
    "def do_both_save(subreddit, path):\n",
    "    '''Given a subreddit name and path to its stored graph,\n",
    "       does both plots and saves to data/plots/'''\n",
    "    \n",
    "    # documentation for displot here: https://seaborn.pydata.org/tutorial/distributions.html\n",
    "    \n",
    "    full_path = path + subreddit + 'gexf'\n",
    "\n",
    "    # title embed plots\n",
    "    title_embeds = get_title_embeddings(subreddit, path)\n",
    "\n",
    "    title_plot = sns.displot(title_embeds,\n",
    "                             kind='kde', # kernel density estimation for smoothed line instead of bar chart\n",
    "                             bw_adjust=.3) # bw_adjust to reduce the line smoothing to retain more information at the cost of prettiness\n",
    "    # bw_adjust as .3 so far seems the best for having some smoothing but still showing information\n",
    "    \n",
    "    title_plot.set(xlabel='Title Embeddings', title=subreddit)\n",
    "    \n",
    "    # comment sentiment plots\n",
    "    sentiments = get_comment_sentiments(subreddit, path)\n",
    "    sentiment_plot = sns.displot(sentiments, bins=10)\n",
    "    sentiment_plot.set(xlabel='Comment Sentiment Score', title=subreddit)\n",
    "\n",
    "    title_plot.savefig(('../data/plots/titles_' + subreddit))\n",
    "    sentiment_plot.savefig(('../data/plots/sentiments_' + subreddit))\n",
    "    return"
   ]
  },
  {
   "attachments": {},
   "cell_type": "markdown",
   "metadata": {},
   "source": [
    "### Run below to create plots and save them"
   ]
  },
  {
   "cell_type": "code",
   "execution_count": null,
   "metadata": {},
   "outputs": [],
   "source": [
    "# list of subreddits and paths to the folder containign their .gexf files\n",
    "network_list = [['gaming', '../data/4april/graphs/'],\n",
    "                ['antiwork', '../data/17april/graphs/'],\n",
    "                ['politics_nan', '../data/23march_chur/graphs/'],\n",
    "                ['music', '../data/2april/graphs/'],\n",
    "                ['worldnews', '../data/23april/graphs/'],\n",
    "                ['ukpolitics', '../data/23april/graphs/'],\n",
    "                ['democrats', '../data/23april/graphs/'],\n",
    "                ['worldnews', '../data/23april/graphs/'],\n",
    "                ['Republican', '../data/23april/graphs/'],\n",
    "                ['PoliticalDiscussion', '../data/23april/graphs/']]"
   ]
  },
  {
   "cell_type": "code",
   "execution_count": null,
   "metadata": {},
   "outputs": [],
   "source": [
    "for subreddit, filepath in network_list:\n",
    "    do_both_save(subreddit, filepath)"
   ]
  }
 ],
 "metadata": {
  "kernelspec": {
   "display_name": "thesis",
   "language": "python",
   "name": "python3"
  },
  "language_info": {
   "codemirror_mode": {
    "name": "ipython",
    "version": 3
   },
   "file_extension": ".py",
   "mimetype": "text/x-python",
   "name": "python",
   "nbconvert_exporter": "python",
   "pygments_lexer": "ipython3",
   "version": "3.11.2"
  },
  "orig_nbformat": 4
 },
 "nbformat": 4,
 "nbformat_minor": 2
}
