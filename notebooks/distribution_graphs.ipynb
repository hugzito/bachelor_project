{
 "cells": [
  {
   "attachments": {},
   "cell_type": "markdown",
   "metadata": {},
   "source": [
    "## For making and saving distribution graphs of networks\n",
    "\n",
    "For each network will make two distribution graphs\n",
    "\n",
    "### Node title embeddings\n",
    "\n",
    "Each node in our networks have title embeddings which we use in both of our measures (from micheles algorithm(s)).\n",
    "\n",
    "Made distribution graphs, where we can see if there are concentrations of common title embeddings.\n",
    "\n",
    "### Edge sentiments\n",
    "\n",
    "Each edge in our networks have a sentiment value which we use in our correlation measure.\n",
    "\n",
    "Made distribution bar plots."
   ]
  },
  {
   "attachments": {},
   "cell_type": "markdown",
   "metadata": {},
   "source": [
    "### Run below to create plots and save them"
   ]
  },
  {
   "cell_type": "code",
   "execution_count": 9,
   "metadata": {},
   "outputs": [],
   "source": [
    "import sys\n",
    "sys.path.append('../')\n",
    "from py_files.distribution_graphs import *"
   ]
  },
  {
   "cell_type": "code",
   "execution_count": 10,
   "metadata": {},
   "outputs": [],
   "source": [
    "# list of subreddits and paths to the folder containign their .gexf files\n",
    "# list is from newest to oldest scraped subreddits with\n",
    "network_list = [['News', '../data/date_folders/april_24/graphs/News.gexf'],\n",
    "                ['Communism', '../data/date_folders/april_24/graphs/communism.gexf'],\n",
    "                ['Democrats', '../data/date_folders/april_23/graphs/democrats.gexf'],\n",
    "                ['Political Discussion', '../data/date_folders/april_23/graphs/PoliticalDiscussion.gexf'],\n",
    "                ['Republican', '../data/date_folders/april_23/graphs/Republican.gexf'],\n",
    "                ['UK Politics', '../data/date_folders/april_23/graphs/ukpolitics.gexf'],\n",
    "                ['World News', '../data/date_folders/april_23/graphs/worldnews.gexf'],\n",
    "                ['Anti-Work', '../data/date_folders/april_17/graphs/antiwork.gexf'],\n",
    "                ['Politics', '../data/date_folders/march_23/graphs/politics.gexf']\n",
    "                # ['Gaming', '../data/date_folders/april_4/graphs/gaming.gexf'],\n",
    "                # ['Music', '../data/date_folders/april_2/graphs/2apr_2Music.gexf'],\n",
    "                # ['FIFA', '../data/date_folders/april_18/graphs/FIFA.gexf']\n",
    "                ]"
   ]
  },
  {
   "attachments": {},
   "cell_type": "markdown",
   "metadata": {},
   "source": [
    "### Creating and saving visualizations"
   ]
  },
  {
   "cell_type": "code",
   "execution_count": null,
   "metadata": {},
   "outputs": [],
   "source": [
    "for title, filepath in network_list:\n",
    "    do_both_save(title, filepath)"
   ]
  },
  {
   "attachments": {},
   "cell_type": "markdown",
   "metadata": {},
   "source": [
    "## Creating grid visualizations"
   ]
  },
  {
   "cell_type": "code",
   "execution_count": 11,
   "metadata": {},
   "outputs": [],
   "source": [
    "# general seaborn settings\n",
    "import matplotlib.pyplot as plt\n",
    "\n",
    "sns.set_style('darkgrid')\n",
    "sns.set(rc={\"figure.dpi\":300, 'savefig.dpi':300})"
   ]
  },
  {
   "attachments": {},
   "cell_type": "markdown",
   "metadata": {},
   "source": [
    "### Title Embeddings"
   ]
  },
  {
   "cell_type": "code",
   "execution_count": null,
   "metadata": {},
   "outputs": [],
   "source": [
    "fig, axes = plt.subplots(3, 3, figsize=(20, 18))\n",
    "fig.suptitle('Distributions of Title Embeddings', size=35, y=.925)\n",
    "\n",
    "for idx, list_ in enumerate(network_list):\n",
    "    title, path = list_[0], list_[1]\n",
    "    match idx:\n",
    "        case 0: grid_coords = axes[0, 0]\n",
    "        case 1: grid_coords = axes[0, 1]\n",
    "        case 2: grid_coords = axes[0, 2]\n",
    "        case 3: grid_coords = axes[1, 0]\n",
    "        case 4: grid_coords = axes[1, 1]\n",
    "        case 5: grid_coords = axes[1, 2]\n",
    "        case 6: grid_coords = axes[2, 0]\n",
    "        case 7: grid_coords = axes[2, 1]\n",
    "        case 8: grid_coords = axes[2, 2]\n",
    "        case _: print('Too many networks!')\n",
    "\n",
    "    title_embeddings = get_title_embeddings(path)\n",
    "\n",
    "    title_plot = sns.kdeplot(ax=grid_coords,\n",
    "                             data=title_embeddings,\n",
    "                             bw_adjust=.3) # bw_adjust to reduce the line smoothing to retain more information at the cost of prettiness)\n",
    "\n",
    "    title_plot.set(ylabel=None, title=title, xlim=(-11.5, 16.5), ylim=(0,.18))\n",
    "    \n",
    "    # setting x and y labels for specific plots for more elegance\n",
    "    if idx == 7:\n",
    "        title_plot.set_xlabel('Title Embeddings', size=25)\n",
    "    if idx == 3:\n",
    "        title_plot.set_ylabel('Density', size=25)\n",
    "\n",
    "# fig = title_plot.get_figure()\n",
    "# fig.savefig('../data/plots/gridplot_titles.png', bbox_inches='tight')"
   ]
  },
  {
   "attachments": {},
   "cell_type": "markdown",
   "metadata": {},
   "source": [
    "### Comment Sentiments"
   ]
  },
  {
   "cell_type": "code",
   "execution_count": null,
   "metadata": {},
   "outputs": [],
   "source": [
    "fig, axes = plt.subplots(3, 3, figsize=(20, 18))\n",
    "fig.suptitle('Distributions of Comment Sentiments', size=35, y=.925)\n",
    "\n",
    "for idx, list_ in enumerate(network_list):\n",
    "    title, path = list_[0], list_[1]\n",
    "    match idx:\n",
    "        case 0: grid_coords = axes[0, 0]\n",
    "        case 1: grid_coords = axes[0, 1]\n",
    "        case 2: grid_coords = axes[0, 2]\n",
    "        case 3: grid_coords = axes[1, 0]\n",
    "        case 4: grid_coords = axes[1, 1]\n",
    "        case 5: grid_coords = axes[1, 2]\n",
    "        case 6: grid_coords = axes[2, 0]\n",
    "        case 7: grid_coords = axes[2, 1]\n",
    "        case 8: grid_coords = axes[2, 2]\n",
    "        case _: print('Too many networks!')\n",
    "\n",
    "    sentiments = get_comment_sentiments(path)\n",
    "\n",
    "    sentiment_plot = sns.histplot(ax=grid_coords,\n",
    "                                  data=sentiments,\n",
    "                                  stat='density',\n",
    "                                  binrange=(-1,1),\n",
    "                                  bins=11) # bin number should be odd so that there is 1 bin in the middle\n",
    "\n",
    "    sentiment_plot.set(ylabel=None, title=title, xlim=(-1.02, 1.02), ylim=(0,4))\n",
    "\n",
    "    # setting x and y labels for specific plots for more elegance\n",
    "    if idx == 7:\n",
    "        sentiment_plot.set_xlabel('Comment Sentiment Score', size=25)\n",
    "    if idx == 3:\n",
    "        sentiment_plot.set_ylabel('Density', size=25)\n",
    "\n",
    "# fig = sentiment_plot.get_figure()\n",
    "# fig.savefig('../data/plots/gridplot_sentiments.png', bbox_inches='tight')"
   ]
  },
  {
   "attachments": {},
   "cell_type": "markdown",
   "metadata": {},
   "source": [
    "### Testing visualizations"
   ]
  },
  {
   "cell_type": "code",
   "execution_count": null,
   "metadata": {},
   "outputs": [],
   "source": [
    "for i in get_comment_sentiments(network_list[0][0], network_list[0][1]):\n",
    "    if i > 0.9:\n",
    "        print(i)\n",
    "    if i < -0.9:\n",
    "        print(i)"
   ]
  },
  {
   "cell_type": "code",
   "execution_count": null,
   "metadata": {},
   "outputs": [],
   "source": [
    "do_both_save(network_list[8][0], network_list[8][1])"
   ]
  }
 ],
 "metadata": {
  "kernelspec": {
   "display_name": "thesis",
   "language": "python",
   "name": "python3"
  },
  "language_info": {
   "codemirror_mode": {
    "name": "ipython",
    "version": 3
   },
   "file_extension": ".py",
   "mimetype": "text/x-python",
   "name": "python",
   "nbconvert_exporter": "python",
   "pygments_lexer": "ipython3",
   "version": "3.10.9"
  },
  "orig_nbformat": 4
 },
 "nbformat": 4,
 "nbformat_minor": 2
}
