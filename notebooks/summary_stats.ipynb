{
 "cells": [
  {
   "cell_type": "code",
   "execution_count": 1,
   "metadata": {},
   "outputs": [],
   "source": [
    "import pandas as pd\n",
    "import seaborn as sns\n",
    "import numpy as np\n",
    "import networkx as nx\n",
    "import os\n",
    "import sys\n",
    "sys.path.append('..')\n",
    "from py_files.michele_algo import *"
   ]
  },
  {
   "attachments": {},
   "cell_type": "markdown",
   "metadata": {},
   "source": [
    "# Import Data"
   ]
  },
  {
   "cell_type": "code",
   "execution_count": 2,
   "metadata": {},
   "outputs": [],
   "source": [
    "def inspect_network(folder):\n",
    "    print(folder)\n",
    "    creation_date = str(folder.split('/')[-3])\n",
    "    df = pd.DataFrame(columns = ['name', 'scrape_date', '#nodes', '#edges', 'average_shortest_path_length', 'Generalized_euclidean', 'Our_polarity_score'])\n",
    "    for file in os.listdir(folder):\n",
    "        graph = nx.read_gexf(folder+file)\n",
    "        graph = nx.to_undirected(graph)\n",
    "        S = [graph.subgraph(c).copy() for c in sorted(nx.connected_components(graph), key=len, reverse=True)]\n",
    "        graph = S[0]\n",
    "        name = file[:-5]\n",
    "\n",
    "        attr_dict = {\n",
    "            'name' : name,\n",
    "            'scrape_date' : creation_date, \n",
    "            '#nodes' : len(graph.nodes()),\n",
    "            '#edges' : len(graph.edges()),\n",
    "            'average_shortest_path_length' : nx.average_shortest_path_length(graph),\n",
    "            'Generalized_euclidean' : do_ge(graph),\n",
    "            'Our_polarity_score' : driver_g(graph) \n",
    "        }\n",
    "        df = df.append(attr_dict, ignore_index = True)\n",
    "    return df"
   ]
  },
  {
   "cell_type": "code",
   "execution_count": 3,
   "metadata": {},
   "outputs": [
    {
     "name": "stdout",
     "output_type": "stream",
     "text": [
      "../data/date_folders/april_2/graphs/\n",
      "../data/date_folders/april_2/graphs/\n"
     ]
    },
    {
     "name": "stderr",
     "output_type": "stream",
     "text": [
      "/var/folders/7n/1v9m4ykn66ddbcxt5nwgg9280000gn/T/ipykernel_85594/1635624543.py:21: FutureWarning: The frame.append method is deprecated and will be removed from pandas in a future version. Use pandas.concat instead.\n",
      "  df = df.append(attr_dict, ignore_index = True)\n",
      "/var/folders/7n/1v9m4ykn66ddbcxt5nwgg9280000gn/T/ipykernel_85594/1635624543.py:21: FutureWarning: The frame.append method is deprecated and will be removed from pandas in a future version. Use pandas.concat instead.\n",
      "  df = df.append(attr_dict, ignore_index = True)\n",
      "/var/folders/7n/1v9m4ykn66ddbcxt5nwgg9280000gn/T/ipykernel_85594/2197783465.py:10: FutureWarning: The frame.append method is deprecated and will be removed from pandas in a future version. Use pandas.concat instead.\n",
      "  df = inspect_network(main_dir+folder+'/graphs/').append(df)\n"
     ]
    },
    {
     "name": "stdout",
     "output_type": "stream",
     "text": [
      "../data/date_folders/april_4/graphs/\n",
      "../data/date_folders/april_4/graphs/\n",
      "../data/date_folders/feb_28/graphs/\n",
      "../data/date_folders/feb_28/graphs/\n",
      "../data/date_folders/march_16/graphs/\n",
      "../data/date_folders/march_16/graphs/\n",
      "../data/date_folders/april_17/graphs/\n",
      "../data/date_folders/april_17/graphs/\n"
     ]
    },
    {
     "name": "stderr",
     "output_type": "stream",
     "text": [
      "/var/folders/7n/1v9m4ykn66ddbcxt5nwgg9280000gn/T/ipykernel_85594/1635624543.py:21: FutureWarning: The frame.append method is deprecated and will be removed from pandas in a future version. Use pandas.concat instead.\n",
      "  df = df.append(attr_dict, ignore_index = True)\n",
      "/var/folders/7n/1v9m4ykn66ddbcxt5nwgg9280000gn/T/ipykernel_85594/2197783465.py:10: FutureWarning: The frame.append method is deprecated and will be removed from pandas in a future version. Use pandas.concat instead.\n",
      "  df = inspect_network(main_dir+folder+'/graphs/').append(df)\n"
     ]
    },
    {
     "name": "stdout",
     "output_type": "stream",
     "text": [
      "../data/date_folders/march_19/graphs/\n",
      "../data/date_folders/march_19/graphs/\n",
      "../data/date_folders/april_18/graphs/\n",
      "../data/date_folders/april_18/graphs/\n"
     ]
    },
    {
     "name": "stderr",
     "output_type": "stream",
     "text": [
      "/var/folders/7n/1v9m4ykn66ddbcxt5nwgg9280000gn/T/ipykernel_85594/1635624543.py:21: FutureWarning: The frame.append method is deprecated and will be removed from pandas in a future version. Use pandas.concat instead.\n",
      "  df = df.append(attr_dict, ignore_index = True)\n",
      "/var/folders/7n/1v9m4ykn66ddbcxt5nwgg9280000gn/T/ipykernel_85594/1635624543.py:21: FutureWarning: The frame.append method is deprecated and will be removed from pandas in a future version. Use pandas.concat instead.\n",
      "  df = df.append(attr_dict, ignore_index = True)\n",
      "/var/folders/7n/1v9m4ykn66ddbcxt5nwgg9280000gn/T/ipykernel_85594/2197783465.py:10: FutureWarning: The frame.append method is deprecated and will be removed from pandas in a future version. Use pandas.concat instead.\n",
      "  df = inspect_network(main_dir+folder+'/graphs/').append(df)\n"
     ]
    },
    {
     "name": "stdout",
     "output_type": "stream",
     "text": [
      "../data/date_folders/march_23/graphs/\n",
      "../data/date_folders/march_23/graphs/\n"
     ]
    },
    {
     "name": "stderr",
     "output_type": "stream",
     "text": [
      "/var/folders/7n/1v9m4ykn66ddbcxt5nwgg9280000gn/T/ipykernel_85594/1635624543.py:21: FutureWarning: The frame.append method is deprecated and will be removed from pandas in a future version. Use pandas.concat instead.\n",
      "  df = df.append(attr_dict, ignore_index = True)\n",
      "/var/folders/7n/1v9m4ykn66ddbcxt5nwgg9280000gn/T/ipykernel_85594/2197783465.py:10: FutureWarning: The frame.append method is deprecated and will be removed from pandas in a future version. Use pandas.concat instead.\n",
      "  df = inspect_network(main_dir+folder+'/graphs/').append(df)\n",
      "/var/folders/7n/1v9m4ykn66ddbcxt5nwgg9280000gn/T/ipykernel_85594/1635624543.py:21: FutureWarning: The frame.append method is deprecated and will be removed from pandas in a future version. Use pandas.concat instead.\n",
      "  df = df.append(attr_dict, ignore_index = True)\n"
     ]
    },
    {
     "name": "stdout",
     "output_type": "stream",
     "text": [
      "../data/date_folders/28feb/graphs/\n",
      "../data/date_folders/28feb/graphs/\n",
      "../data/date_folders/april_24/graphs/\n",
      "../data/date_folders/april_24/graphs/\n"
     ]
    },
    {
     "name": "stderr",
     "output_type": "stream",
     "text": [
      "/var/folders/7n/1v9m4ykn66ddbcxt5nwgg9280000gn/T/ipykernel_85594/1635624543.py:21: FutureWarning: The frame.append method is deprecated and will be removed from pandas in a future version. Use pandas.concat instead.\n",
      "  df = df.append(attr_dict, ignore_index = True)\n",
      "/var/folders/7n/1v9m4ykn66ddbcxt5nwgg9280000gn/T/ipykernel_85594/2197783465.py:10: FutureWarning: The frame.append method is deprecated and will be removed from pandas in a future version. Use pandas.concat instead.\n",
      "  df = inspect_network(main_dir+folder+'/graphs/').append(df)\n",
      "/var/folders/7n/1v9m4ykn66ddbcxt5nwgg9280000gn/T/ipykernel_85594/1635624543.py:21: FutureWarning: The frame.append method is deprecated and will be removed from pandas in a future version. Use pandas.concat instead.\n",
      "  df = df.append(attr_dict, ignore_index = True)\n"
     ]
    },
    {
     "name": "stdout",
     "output_type": "stream",
     "text": [
      "../data/date_folders/april_23/graphs/\n",
      "../data/date_folders/april_23/graphs/\n"
     ]
    },
    {
     "name": "stderr",
     "output_type": "stream",
     "text": [
      "/var/folders/7n/1v9m4ykn66ddbcxt5nwgg9280000gn/T/ipykernel_85594/1635624543.py:21: FutureWarning: The frame.append method is deprecated and will be removed from pandas in a future version. Use pandas.concat instead.\n",
      "  df = df.append(attr_dict, ignore_index = True)\n",
      "/var/folders/7n/1v9m4ykn66ddbcxt5nwgg9280000gn/T/ipykernel_85594/1635624543.py:21: FutureWarning: The frame.append method is deprecated and will be removed from pandas in a future version. Use pandas.concat instead.\n",
      "  df = df.append(attr_dict, ignore_index = True)\n",
      "/var/folders/7n/1v9m4ykn66ddbcxt5nwgg9280000gn/T/ipykernel_85594/1635624543.py:21: FutureWarning: The frame.append method is deprecated and will be removed from pandas in a future version. Use pandas.concat instead.\n",
      "  df = df.append(attr_dict, ignore_index = True)\n",
      "/var/folders/7n/1v9m4ykn66ddbcxt5nwgg9280000gn/T/ipykernel_85594/1635624543.py:21: FutureWarning: The frame.append method is deprecated and will be removed from pandas in a future version. Use pandas.concat instead.\n",
      "  df = df.append(attr_dict, ignore_index = True)\n",
      "/var/folders/7n/1v9m4ykn66ddbcxt5nwgg9280000gn/T/ipykernel_85594/2197783465.py:10: FutureWarning: The frame.append method is deprecated and will be removed from pandas in a future version. Use pandas.concat instead.\n",
      "  df = inspect_network(main_dir+folder+'/graphs/').append(df)\n"
     ]
    }
   ],
   "source": [
    "main_dir = '../data/date_folders/'\n",
    "First = True\n",
    "for folder in os.listdir(main_dir):\n",
    "    print(main_dir+folder+'/graphs/')\n",
    "    if First:\n",
    "        df = inspect_network(main_dir+folder+'/graphs/')\n",
    "        First = False\n",
    "    else:\n",
    "        try:\n",
    "            df = inspect_network(main_dir+folder+'/graphs/').append(df)\n",
    "        except:\n",
    "            pass"
   ]
  },
  {
   "cell_type": "code",
   "execution_count": 9,
   "metadata": {},
   "outputs": [
    {
     "data": {
      "text/html": [
       "<div>\n",
       "<style scoped>\n",
       "    .dataframe tbody tr th:only-of-type {\n",
       "        vertical-align: middle;\n",
       "    }\n",
       "\n",
       "    .dataframe tbody tr th {\n",
       "        vertical-align: top;\n",
       "    }\n",
       "\n",
       "    .dataframe thead th {\n",
       "        text-align: right;\n",
       "    }\n",
       "</style>\n",
       "<table border=\"1\" class=\"dataframe\">\n",
       "  <thead>\n",
       "    <tr style=\"text-align: right;\">\n",
       "      <th></th>\n",
       "      <th>scrape_date</th>\n",
       "      <th>#nodes</th>\n",
       "      <th>#edges</th>\n",
       "      <th>average_shortest_path_length</th>\n",
       "      <th>Generalized_euclidean</th>\n",
       "      <th>Our_polarity_score</th>\n",
       "    </tr>\n",
       "    <tr>\n",
       "      <th>name</th>\n",
       "      <th></th>\n",
       "      <th></th>\n",
       "      <th></th>\n",
       "      <th></th>\n",
       "      <th></th>\n",
       "      <th></th>\n",
       "    </tr>\n",
       "  </thead>\n",
       "  <tbody>\n",
       "    <tr>\n",
       "      <th>PoliticalDiscussion</th>\n",
       "      <td>april_23</td>\n",
       "      <td>55</td>\n",
       "      <td>95</td>\n",
       "      <td>2.744781</td>\n",
       "      <td>22.785953</td>\n",
       "      <td>0.044378</td>\n",
       "    </tr>\n",
       "    <tr>\n",
       "      <th>ukpolitics</th>\n",
       "      <td>april_23</td>\n",
       "      <td>303</td>\n",
       "      <td>1261</td>\n",
       "      <td>2.033047</td>\n",
       "      <td>39.538998</td>\n",
       "      <td>0.256988</td>\n",
       "    </tr>\n",
       "    <tr>\n",
       "      <th>democrats</th>\n",
       "      <td>april_23</td>\n",
       "      <td>113</td>\n",
       "      <td>441</td>\n",
       "      <td>2.431416</td>\n",
       "      <td>38.203162</td>\n",
       "      <td>-0.095426</td>\n",
       "    </tr>\n",
       "    <tr>\n",
       "      <th>worldnews</th>\n",
       "      <td>april_23</td>\n",
       "      <td>143</td>\n",
       "      <td>206</td>\n",
       "      <td>3.640599</td>\n",
       "      <td>48.764656</td>\n",
       "      <td>-0.119872</td>\n",
       "    </tr>\n",
       "    <tr>\n",
       "      <th>Republican</th>\n",
       "      <td>april_23</td>\n",
       "      <td>52</td>\n",
       "      <td>116</td>\n",
       "      <td>2.643288</td>\n",
       "      <td>24.030088</td>\n",
       "      <td>-0.118271</td>\n",
       "    </tr>\n",
       "    <tr>\n",
       "      <th>communism</th>\n",
       "      <td>april_24</td>\n",
       "      <td>63</td>\n",
       "      <td>91</td>\n",
       "      <td>2.183308</td>\n",
       "      <td>29.43133</td>\n",
       "      <td>-0.240999</td>\n",
       "    </tr>\n",
       "    <tr>\n",
       "      <th>News</th>\n",
       "      <td>april_24</td>\n",
       "      <td>264</td>\n",
       "      <td>463</td>\n",
       "      <td>3.657363</td>\n",
       "      <td>56.999139</td>\n",
       "      <td>-0.004711</td>\n",
       "    </tr>\n",
       "    <tr>\n",
       "      <th>politics</th>\n",
       "      <td>march_23</td>\n",
       "      <td>326</td>\n",
       "      <td>874</td>\n",
       "      <td>3.287192</td>\n",
       "      <td>44.463164</td>\n",
       "      <td>0.116205</td>\n",
       "    </tr>\n",
       "    <tr>\n",
       "      <th>FIFA</th>\n",
       "      <td>april_18</td>\n",
       "      <td>523</td>\n",
       "      <td>2123</td>\n",
       "      <td>3.002798</td>\n",
       "      <td>61.535619</td>\n",
       "      <td>0.058735</td>\n",
       "    </tr>\n",
       "    <tr>\n",
       "      <th>CallOfDuty</th>\n",
       "      <td>april_18</td>\n",
       "      <td>3</td>\n",
       "      <td>2</td>\n",
       "      <td>1.333333</td>\n",
       "      <td>4.710811</td>\n",
       "      <td>-1.0</td>\n",
       "    </tr>\n",
       "    <tr>\n",
       "      <th>antiwork</th>\n",
       "      <td>april_17</td>\n",
       "      <td>248</td>\n",
       "      <td>333</td>\n",
       "      <td>3.553742</td>\n",
       "      <td>95.982376</td>\n",
       "      <td>0.053924</td>\n",
       "    </tr>\n",
       "    <tr>\n",
       "      <th>gaming</th>\n",
       "      <td>april_4</td>\n",
       "      <td>169</td>\n",
       "      <td>195</td>\n",
       "      <td>4.84707</td>\n",
       "      <td>71.016108</td>\n",
       "      <td>0.252343</td>\n",
       "    </tr>\n",
       "    <tr>\n",
       "      <th>music</th>\n",
       "      <td>april_2</td>\n",
       "      <td>45</td>\n",
       "      <td>51</td>\n",
       "      <td>3.739394</td>\n",
       "      <td>42.964094</td>\n",
       "      <td>0.097333</td>\n",
       "    </tr>\n",
       "  </tbody>\n",
       "</table>\n",
       "</div>"
      ],
      "text/plain": [
       "                    scrape_date #nodes #edges average_shortest_path_length  \\\n",
       "name                                                                         \n",
       "PoliticalDiscussion    april_23     55     95                     2.744781   \n",
       "ukpolitics             april_23    303   1261                     2.033047   \n",
       "democrats              april_23    113    441                     2.431416   \n",
       "worldnews              april_23    143    206                     3.640599   \n",
       "Republican             april_23     52    116                     2.643288   \n",
       "communism              april_24     63     91                     2.183308   \n",
       "News                   april_24    264    463                     3.657363   \n",
       "politics               march_23    326    874                     3.287192   \n",
       "FIFA                   april_18    523   2123                     3.002798   \n",
       "CallOfDuty             april_18      3      2                     1.333333   \n",
       "antiwork               april_17    248    333                     3.553742   \n",
       "gaming                  april_4    169    195                      4.84707   \n",
       "music                   april_2     45     51                     3.739394   \n",
       "\n",
       "                    Generalized_euclidean Our_polarity_score  \n",
       "name                                                          \n",
       "PoliticalDiscussion             22.785953           0.044378  \n",
       "ukpolitics                      39.538998           0.256988  \n",
       "democrats                       38.203162          -0.095426  \n",
       "worldnews                       48.764656          -0.119872  \n",
       "Republican                      24.030088          -0.118271  \n",
       "communism                        29.43133          -0.240999  \n",
       "News                            56.999139          -0.004711  \n",
       "politics                        44.463164           0.116205  \n",
       "FIFA                            61.535619           0.058735  \n",
       "CallOfDuty                       4.710811               -1.0  \n",
       "antiwork                        95.982376           0.053924  \n",
       "gaming                          71.016108           0.252343  \n",
       "music                           42.964094           0.097333  "
      ]
     },
     "execution_count": 9,
     "metadata": {},
     "output_type": "execute_result"
    }
   ],
   "source": [
    "df.set_index('name')"
   ]
  },
  {
   "cell_type": "code",
   "execution_count": 10,
   "metadata": {},
   "outputs": [],
   "source": [
    "df.to_clipboard()"
   ]
  },
  {
   "cell_type": "code",
   "execution_count": 6,
   "metadata": {},
   "outputs": [
    {
     "data": {
      "text/plain": [
       "<seaborn.axisgrid.PairGrid at 0x142751210>"
      ]
     },
     "execution_count": 6,
     "metadata": {},
     "output_type": "execute_result"
    },
    {
     "data": {
      "image/png": "[encoded data removed]",
      "text/plain": [
       "<Figure size 900x900 with 30 Axes>"
      ]
     },
     "metadata": {
      "needs_background": "light"
     },
     "output_type": "display_data"
    }
   ],
   "source": [
    "sns.pairplot(df, \n",
    "             #hue='name'\n",
    "             )"
   ]
  },
  {
   "attachments": {},
   "cell_type": "markdown",
   "metadata": {},
   "source": [
    "# Barplots of main measures"
   ]
  },
  {
   "cell_type": "code",
   "execution_count": 7,
   "metadata": {},
   "outputs": [
    {
     "data": {
      "image/png": "[encoded data removed]",
      "text/plain": [
       "<Figure size 432x288 with 1 Axes>"
      ]
     },
     "metadata": {
      "needs_background": "light"
     },
     "output_type": "display_data"
    }
   ],
   "source": [
    "# generalized euclidean (michele measure 1)\n",
    "df_GE = df.copy().sort_values('Generalized_euclidean')\n",
    "bar_GE = sns.barplot(y=df_GE['name'], x=df_GE['Generalized_euclidean'], color='steelblue')\n",
    "bar_GE.set(xlabel='Generalized Euclidean Measure',\n",
    "           ylabel='Subreddit',\n",
    "           title='GE score of subreddit networks')\n",
    "fig = bar_GE.get_figure()\n",
    "fig.savefig('../data/plots/bar_GE.png', bbox_inches='tight')"
   ]
  },
  {
   "cell_type": "code",
   "execution_count": 8,
   "metadata": {},
   "outputs": [
    {
     "data": {
      "image/png": "[encoded data removed]",
      "text/plain": [
       "<Figure size 432x288 with 1 Axes>"
      ]
     },
     "metadata": {
      "needs_background": "light"
     },
     "output_type": "display_data"
    }
   ],
   "source": [
    "# Correlation between ideological distance and comment sentiment\n",
    "df_correlation = df.copy().sort_values('Our_polarity_score')\n",
    "bar_correlation = sns.barplot(x=df_correlation['Our_polarity_score'], y=df_correlation['name'], color='steelblue')\n",
    "bar_correlation.set(xlabel='Correlation Score',\n",
    "                    ylabel='Subreddit',\n",
    "                    title='Correlation score between ideological distance and comment sentiment')\n",
    "fig = bar_correlation.get_figure()\n",
    "fig.savefig('../data/plots/bar_correlation.png', bbox_inches='tight')"
   ]
  },
  {
   "attachments": {},
   "cell_type": "markdown",
   "metadata": {},
   "source": [
    "# Calculate stats per Network"
   ]
  },
  {
   "attachments": {},
   "cell_type": "markdown",
   "metadata": {},
   "source": [
    "# Check Correlations"
   ]
  },
  {
   "attachments": {},
   "cell_type": "markdown",
   "metadata": {},
   "source": [
    "# lineplots?"
   ]
  }
 ],
 "metadata": {
  "kernelspec": {
   "display_name": "Python 3",
   "language": "python",
   "name": "python3"
  },
  "language_info": {
   "codemirror_mode": {
    "name": "ipython",
    "version": 3
   },
   "file_extension": ".py",
   "mimetype": "text/x-python",
   "name": "python",
   "nbconvert_exporter": "python",
   "pygments_lexer": "ipython3",
   "version": "3.10.2"
  },
  "orig_nbformat": 4
 },
 "nbformat": 4,
 "nbformat_minor": 2
}
