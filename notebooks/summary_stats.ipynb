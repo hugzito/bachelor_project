{
 "cells": [
  {
   "cell_type": "code",
   "execution_count": null,
   "metadata": {},
   "outputs": [],
   "source": [
    "import pandas as pd\n",
    "import seaborn as sns\n",
    "import numpy as np\n",
    "import networkx as nx\n",
    "import os\n",
    "import sys\n",
    "sys.path.append('..')\n",
    "from py_files.michele_algo import *"
   ]
  },
  {
   "attachments": {},
   "cell_type": "markdown",
   "metadata": {},
   "source": [
    "# Import Data"
   ]
  },
  {
   "cell_type": "code",
   "execution_count": null,
   "metadata": {},
   "outputs": [],
   "source": [
    "def inspect_network(folder):\n",
    "    print(folder)\n",
    "    creation_date = str(folder.split('/')[-3])\n",
    "    df = pd.DataFrame(columns = ['name', 'scrape_date', '#nodes', '#edges', 'average_shortest_path_length', 'Generalized_euclidean', 'Our_polarity_score'])\n",
    "    for file in os.listdir(folder):\n",
    "        graph = nx.read_gexf(folder+file)\n",
    "        graph = nx.to_undirected(graph)\n",
    "        S = [graph.subgraph(c).copy() for c in sorted(nx.connected_components(graph), key=len, reverse=True)]\n",
    "        graph = S[0]\n",
    "        name = file[:-5]\n",
    "\n",
    "        attr_dict = {\n",
    "            'name' : name,\n",
    "            'scrape_date' : creation_date, \n",
    "            '#nodes' : len(graph.nodes()),\n",
    "            '#edges' : len(graph.edges()),\n",
    "            'average_shortest_path_length' : nx.average_shortest_path_length(graph),\n",
    "            'Generalized_euclidean' : do_ge(graph),\n",
    "            'Our_polarity_score' : driver_g(graph) \n",
    "        }\n",
    "        df = df.append(attr_dict, ignore_index = True)\n",
    "    return df"
   ]
  },
  {
   "cell_type": "code",
   "execution_count": null,
   "metadata": {},
   "outputs": [],
   "source": [
    "main_dir = '../data/date_folders/'\n",
    "First = True\n",
    "for folder in os.listdir(main_dir):\n",
    "    print(main_dir+folder+'/graphs/')\n",
    "    if First:\n",
    "        df = inspect_network(main_dir+folder+'/graphs/')\n",
    "        First = False\n",
    "    else:\n",
    "        try:\n",
    "            df = inspect_network(main_dir+folder+'/graphs/').append(df)\n",
    "        except:\n",
    "            pass"
   ]
  },
  {
   "cell_type": "code",
   "execution_count": null,
   "metadata": {},
   "outputs": [],
   "source": [
    "#df = df.set_index('name')"
   ]
  },
  {
   "cell_type": "code",
   "execution_count": null,
   "metadata": {},
   "outputs": [],
   "source": [
    "df"
   ]
  },
  {
   "cell_type": "code",
   "execution_count": null,
   "metadata": {},
   "outputs": [],
   "source": [
    "sns.pairplot(df, \n",
    "             #hue='name'\n",
    "             )"
   ]
  },
  {
   "attachments": {},
   "cell_type": "markdown",
   "metadata": {},
   "source": [
    "# Barplots of main measures"
   ]
  },
  {
   "cell_type": "code",
   "execution_count": null,
   "metadata": {},
   "outputs": [],
   "source": [
    "# general seaborn settings\n",
    "import matplotlib.pyplot as plt\n",
    "\n",
    "sns.set_style('darkgrid')\n",
    "sns.set(rc={\"figure.dpi\":300, 'savefig.dpi':300})"
   ]
  },
  {
   "cell_type": "code",
   "execution_count": null,
   "metadata": {},
   "outputs": [],
   "source": [
    "# generalized euclidean (michele measure 1)\n",
    "df_GE = df.copy().sort_values('Generalized_euclidean')\n",
    "df_GE = df_GE[df_GE['name'].isin([\n",
    "    'PoliticalDiscussion',\n",
    "    'Republican',\n",
    "    'communism',\n",
    "    'democrats',\n",
    "    'ukpolitics',\n",
    "    'politics',\n",
    "    'worldnews',\n",
    "    'News',\n",
    "    'antiwork'\n",
    "])]\n",
    "bar_GE = sns.barplot(y=df_GE['name'], x=df_GE['Generalized_euclidean'], color='tab:blue')\n",
    "bar_GE.set(xlabel='Generalized Euclidean Measure',\n",
    "           ylabel='Subreddit',\n",
    "           title='GE score of subreddit networks')\n",
    "fig = bar_GE.get_figure()\n",
    "fig.savefig('../data/plots/bar_GE.png', bbox_inches='tight')"
   ]
  },
  {
   "cell_type": "code",
   "execution_count": null,
   "metadata": {},
   "outputs": [],
   "source": [
    "# Correlation between ideological distance and comment sentiment\n",
    "df_correlation = df_GE.copy().sort_values('Our_polarity_score')\n",
    "bar_correlation = sns.barplot(x=df_correlation['Our_polarity_score'], y=df_correlation['name'], color='tab:blue')\n",
    "bar_correlation.set(xlabel='Correlation Score',\n",
    "                    ylabel='Subreddit',\n",
    "                    title='Correlation score between ideological distance and comment sentiment')\n",
    "fig = bar_correlation.get_figure()\n",
    "fig.savefig('../data/plots/bar_correlation.png', bbox_inches='tight')"
   ]
  },
  {
   "attachments": {},
   "cell_type": "markdown",
   "metadata": {},
   "source": [
    "### New plot"
   ]
  },
  {
   "cell_type": "code",
   "execution_count": null,
   "metadata": {},
   "outputs": [],
   "source": [
    "df_GE.rename(columns={'name':'Subreddit'}, inplace = True)\n",
    "scatter = sns.scatterplot(data=df_GE, x='Generalized_euclidean', y='Our_polarity_score', hue='Subreddit')\n",
    "plt.axhline(y=0, color='black', ls='dashed')\n",
    "sns.move_legend(scatter, \"upper left\", bbox_to_anchor=(1, 1), frameon=False)\n",
    "# plt.axvline(x=60, color='black', ls='dashed')\n",
    "scatter.set(title='GE Score vs Correlation Score',\n",
    "            xlim=(20,100),\n",
    "            ylim=(-0.4,0.4))\n",
    "scatter.set_xlabel('GE Score', size=11)\n",
    "scatter.set_ylabel('Correlation Score', size=11)\n",
    "fig = scatter.get_figure()\n",
    "fig.savefig('../data/plots/scatter.png', bbox_inches='tight')"
   ]
  },
  {
   "attachments": {},
   "cell_type": "markdown",
   "metadata": {},
   "source": [
    "# Calculate stats per Network"
   ]
  },
  {
   "attachments": {},
   "cell_type": "markdown",
   "metadata": {},
   "source": [
    "# Check Correlations"
   ]
  },
  {
   "attachments": {},
   "cell_type": "markdown",
   "metadata": {},
   "source": [
    "# lineplots?"
   ]
  }
 ],
 "metadata": {
  "kernelspec": {
   "display_name": "Python 3",
   "language": "python",
   "name": "python3"
  },
  "language_info": {
   "codemirror_mode": {
    "name": "ipython",
    "version": 3
   },
   "file_extension": ".py",
   "mimetype": "text/x-python",
   "name": "python",
   "nbconvert_exporter": "python",
   "pygments_lexer": "ipython3",
   "version": "3.11.2"
  },
  "orig_nbformat": 4
 },
 "nbformat": 4,
 "nbformat_minor": 2
}
