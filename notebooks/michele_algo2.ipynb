{
 "cells": [
  {
   "attachments": {},
   "cell_type": "markdown",
   "metadata": {},
   "source": [
    "# Polarization method that takes the sentiments of comments into account"
   ]
  },
  {
   "cell_type": "code",
   "execution_count": null,
   "metadata": {},
   "outputs": [],
   "source": [
    "import pandas as pd\n",
    "import networkx as nx\n",
    "import sys\n",
    "sys.path.append('../')\n",
    "from michele_measures.network_distance import _resistance, correlation"
   ]
  },
  {
   "attachments": {},
   "cell_type": "markdown",
   "metadata": {},
   "source": [
    "## Grabbing the data"
   ]
  },
  {
   "cell_type": "code",
   "execution_count": null,
   "metadata": {},
   "outputs": [],
   "source": [
    "def grab_network(subreddit, path):\n",
    "    '''Given the name of a subreddit and the path to the folder where networks are stored, reads and returns the network'''\n",
    "\n",
    "    filepath = path + subreddit + '.gexf'\n",
    "    return nx.read_gexf(filepath)"
   ]
  },
  {
   "attachments": {},
   "cell_type": "markdown",
   "metadata": {},
   "source": [
    "## Transforming G to its undirected line graph equivalent G_line\n",
    "\n",
    "In the line graph, the new node ids will be the edges of G. So, if in G node 1 connected with node 2, in G_line there will be a node with id (1,2) (or (2,1))"
   ]
  },
  {
   "cell_type": "code",
   "execution_count": null,
   "metadata": {},
   "outputs": [],
   "source": [
    "def line_graph(G):\n",
    "    '''Given a network, transforms it to its undirected line graph equivalent and returns it.'''\n",
    "\n",
    "    G = G.to_undirected()\n",
    "\n",
    "    G_line = nx.line_graph(G)\n",
    "\n",
    "    # possibly need to copy edge values over\n",
    "\n",
    "    return G_line"
   ]
  },
  {
   "attachments": {},
   "cell_type": "markdown",
   "metadata": {},
   "source": [
    "## Getting node values for G_line"
   ]
  },
  {
   "cell_type": "code",
   "execution_count": null,
   "metadata": {},
   "outputs": [],
   "source": [
    "def get_node_vals(G, G_line):\n",
    "    '''Given networks G and G_line, gets the edge values from G for use as node values for G_line\n",
    "       Does not assign these values in G_line, uses G_line to ensure correct formatting and returns a dictionary'''\n",
    "    \n",
    "    connection_formats = G_line.nodes\n",
    "\n",
    "    node_val_dict = dict()\n",
    "    for edge in list(G.edges(data=True)):\n",
    "        sentiment = edge[2]['sentiment']\n",
    "\n",
    "        # ensures correct formatting\n",
    "        from_to = (edge[0], edge[1])\n",
    "        to_from = (edge[1], edge[0])\n",
    "        if from_to in connection_formats:\n",
    "            node_val_dict[from_to] = sentiment\n",
    "        elif to_from in connection_formats:\n",
    "            node_val_dict[to_from] = sentiment\n",
    "        \n",
    "    return node_val_dict"
   ]
  },
  {
   "attachments": {},
   "cell_type": "markdown",
   "metadata": {},
   "source": [
    "## Getting title embedding differences"
   ]
  },
  {
   "cell_type": "code",
   "execution_count": null,
   "metadata": {},
   "outputs": [],
   "source": [
    "def get_ideology_distance(G, G_line):\n",
    "    '''Given network G, for every pair of connected nodes calculates the difference between their title embeddigns.\n",
    "       Uses G_line to ensure correct formatting of dictionary keys.\n",
    "       Returns a dictionary of these differences.'''\n",
    "    \n",
    "    connection_formats = G_line.nodes\n",
    "\n",
    "    ideology_distance_dict = dict()\n",
    "    for edge in list(G.edges(data=True)):\n",
    "        from_embed = G.nodes[edge[0]]['polarity']\n",
    "        to_embed = G.nodes[edge[1]]['polarity']\n",
    "\n",
    "        diff = abs(from_embed-to_embed)\n",
    "\n",
    "        # ensuring correct formatting\n",
    "        from_to = (edge[0], edge[1])\n",
    "        to_from = (edge[1], edge[0])\n",
    "        if from_to in connection_formats:\n",
    "            ideology_distance_dict[from_to] = diff\n",
    "        elif to_from in connection_formats:\n",
    "            ideology_distance_dict[to_from] = diff\n",
    "\n",
    "    return ideology_distance_dict"
   ]
  },
  {
   "attachments": {},
   "cell_type": "markdown",
   "metadata": {},
   "source": [
    "## Driver function"
   ]
  },
  {
   "cell_type": "code",
   "execution_count": null,
   "metadata": {},
   "outputs": [],
   "source": [
    "def driver(subreddit, path):\n",
    "    '''Given a subreddit name and a path to where networks are stored, does everything'''\n",
    "\n",
    "    G = grab_network(subreddit, path)\n",
    "    G_line = line_graph(G)\n",
    "    node_val_dict = get_node_vals(G, G_line)\n",
    "    ideology_distance = get_ideology_distance(G, G_line)\n",
    "    Q_line = _resistance(G_line)\n",
    "    polarization = correlation(node_val_dict, ideology_distance, G_line, Q_line)\n",
    "\n",
    "    return polarization"
   ]
  },
  {
   "cell_type": "code",
   "execution_count": null,
   "metadata": {},
   "outputs": [],
   "source": [
    "driver('politics_nan', '../data/23march_chur/graphs/')"
   ]
  },
  {
   "cell_type": "code",
   "execution_count": null,
   "metadata": {},
   "outputs": [],
   "source": [
    "driver('gaming', '../data/4april/graphs/')"
   ]
  },
  {
   "cell_type": "code",
   "execution_count": null,
   "metadata": {},
   "outputs": [],
   "source": [
    "driver('music', '../data/2april/graphs/')"
   ]
  },
  {
   "cell_type": "code",
   "execution_count": null,
   "metadata": {},
   "outputs": [],
   "source": [
    "driver('antiwork', '../data/17april/graphs/')"
   ]
  }
 ],
 "metadata": {
  "kernelspec": {
   "display_name": "reddit_scraping",
   "language": "python",
   "name": "python3"
  },
  "language_info": {
   "codemirror_mode": {
    "name": "ipython",
    "version": 3
   },
   "file_extension": ".py",
   "mimetype": "text/x-python",
   "name": "python",
   "nbconvert_exporter": "python",
   "pygments_lexer": "ipython3",
   "version": "3.10.9"
  },
  "orig_nbformat": 4
 },
 "nbformat": 4,
 "nbformat_minor": 2
}
