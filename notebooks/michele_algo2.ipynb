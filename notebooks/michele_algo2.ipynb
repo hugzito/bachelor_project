{
 "cells": [
  {
   "attachments": {},
   "cell_type": "markdown",
   "metadata": {},
   "source": [
    "# Polarization method that takes the sentiments of comments into account"
   ]
  },
  {
   "cell_type": "code",
   "execution_count": null,
   "metadata": {},
   "outputs": [],
   "source": [
    "from reqs.measures import *"
   ]
  },
  {
   "cell_type": "code",
   "execution_count": null,
   "metadata": {},
   "outputs": [],
   "source": [
    "# networks to run and print results from\n",
    "network_list = [\n",
    "    ['gaming', '../data/date_folders/4april/graphs/'],\n",
    "    #['tarkov_network', '../data/date_folders/19march/graphs/'],\n",
    "    #['CallOfDuty', '../data/date_folders/april_18/graphs/'],\n",
    "    #['FIFA', '../data/date_folders/april_18/graphs/'],\n",
    "    ['politics_nan', '../data/date_folders/23march_chur/graphs/'],\n",
    "    ['worldnews', '../data/date_folders/23april/graphs/'],\n",
    "    ['PoliticalDiscussion', '../data/date_folders/23april/graphs/'],\n",
    "    ['ukpolitics', '../data/date_folders/23april/graphs/'],\n",
    "    ['democrats', '../data/date_folders/23april/graphs/'],\n",
    "    ['Republican', '../data/date_folders/23april/graphs/']\n",
    "]"
   ]
  },
  {
   "cell_type": "code",
   "execution_count": null,
   "metadata": {},
   "outputs": [],
   "source": [
    "for subreddit, folderpath in network_list:\n",
    "    print(subreddit)\n",
    "    print(driver(subreddit, folderpath))"
   ]
  }
 ],
 "metadata": {
  "kernelspec": {
   "display_name": "reddit_scraping",
   "language": "python",
   "name": "python3"
  },
  "language_info": {
   "codemirror_mode": {
    "name": "ipython",
    "version": 3
   },
   "file_extension": ".py",
   "mimetype": "text/x-python",
   "name": "python",
   "nbconvert_exporter": "python",
   "pygments_lexer": "ipython3",
   "version": "3.11.2"
  },
  "orig_nbformat": 4
 },
 "nbformat": 4,
 "nbformat_minor": 2
}
