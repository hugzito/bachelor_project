{
 "cells": [
  {
   "cell_type": "code",
   "execution_count": 8,
   "metadata": {},
   "outputs": [],
   "source": [
    "import pandas as pd\n",
    "import seaborn as sns \n",
    "import numpy as np\n",
    "import networkx as nx\n",
    "import os\n",
    "from reqs.measures import * "
   ]
  },
  {
   "attachments": {},
   "cell_type": "markdown",
   "metadata": {},
   "source": [
    "# Import Data"
   ]
  },
  {
   "cell_type": "code",
   "execution_count": 12,
   "metadata": {},
   "outputs": [],
   "source": [
    "def inspect_network(folder):\n",
    "    print(folder)\n",
    "    creation_date = str(folder.split('/')[-3])\n",
    "    df = pd.DataFrame(columns = ['name', 'scrape_date', '#nodes', '#edges', 'average_shortest_path_length', 'Generalized_euclidean', 'Our_polarity_score'])\n",
    "    for file in os.listdir(folder):\n",
    "        graph = nx.read_gexf(folder+file)\n",
    "        graph = nx.to_undirected(graph)\n",
    "        S = [graph.subgraph(c).copy() for c in sorted(nx.connected_components(graph), key=len, reverse=True)]\n",
    "        graph = S[0]\n",
    "        name = file[:-5]\n",
    "\n",
    "        attr_dict = {\n",
    "            'name' : name,\n",
    "            'scrape_date' : creation_date, \n",
    "            '#nodes' : len(graph.nodes()),\n",
    "            '#edges' : len(graph.edges()),\n",
    "            'average_shortest_path_length' : nx.average_shortest_path_length(graph),\n",
    "            'Generalized_euclidean' : do_ge(graph),\n",
    "            'Our_polarity_score' : driver_g(graph) \n",
    "        }\n",
    "        df = df.append(attr_dict, ignore_index = True)\n",
    "    return df"
   ]
  },
  {
   "cell_type": "code",
   "execution_count": 13,
   "metadata": {},
   "outputs": [
    {
     "name": "stdout",
     "output_type": "stream",
     "text": [
      "../data/date_folders/2april/graphs/\n",
      "../data/date_folders/4april/graphs/\n",
      "../data/date_folders/17april/graphs/\n"
     ]
    },
    {
     "name": "stderr",
     "output_type": "stream",
     "text": [
      "/var/folders/7n/1v9m4ykn66ddbcxt5nwgg9280000gn/T/ipykernel_71526/1635624543.py:21: FutureWarning: The frame.append method is deprecated and will be removed from pandas in a future version. Use pandas.concat instead.\n",
      "  df = df.append(attr_dict, ignore_index = True)\n",
      "/var/folders/7n/1v9m4ykn66ddbcxt5nwgg9280000gn/T/ipykernel_71526/1635624543.py:21: FutureWarning: The frame.append method is deprecated and will be removed from pandas in a future version. Use pandas.concat instead.\n",
      "  df = df.append(attr_dict, ignore_index = True)\n",
      "/var/folders/7n/1v9m4ykn66ddbcxt5nwgg9280000gn/T/ipykernel_71526/504097100.py:2: FutureWarning: The frame.append method is deprecated and will be removed from pandas in a future version. Use pandas.concat instead.\n",
      "  new_df = inspect_network('../data/date_folders/4april/graphs/').append(april_2nd)\n",
      "/var/folders/7n/1v9m4ykn66ddbcxt5nwgg9280000gn/T/ipykernel_71526/1635624543.py:21: FutureWarning: The frame.append method is deprecated and will be removed from pandas in a future version. Use pandas.concat instead.\n",
      "  df = df.append(attr_dict, ignore_index = True)\n",
      "/var/folders/7n/1v9m4ykn66ddbcxt5nwgg9280000gn/T/ipykernel_71526/504097100.py:3: FutureWarning: The frame.append method is deprecated and will be removed from pandas in a future version. Use pandas.concat instead.\n",
      "  new_df = inspect_network('../data/date_folders/17april/graphs/').append(new_df)\n"
     ]
    },
    {
     "name": "stdout",
     "output_type": "stream",
     "text": [
      "../data/date_folders/23march_chur/graphs/\n"
     ]
    },
    {
     "name": "stderr",
     "output_type": "stream",
     "text": [
      "/var/folders/7n/1v9m4ykn66ddbcxt5nwgg9280000gn/T/ipykernel_71526/1635624543.py:21: FutureWarning: The frame.append method is deprecated and will be removed from pandas in a future version. Use pandas.concat instead.\n",
      "  df = df.append(attr_dict, ignore_index = True)\n",
      "/var/folders/7n/1v9m4ykn66ddbcxt5nwgg9280000gn/T/ipykernel_71526/504097100.py:4: FutureWarning: The frame.append method is deprecated and will be removed from pandas in a future version. Use pandas.concat instead.\n",
      "  new_df = inspect_network('../data/date_folders/23march_chur/graphs/').append(new_df)\n",
      "/var/folders/7n/1v9m4ykn66ddbcxt5nwgg9280000gn/T/ipykernel_71526/1635624543.py:21: FutureWarning: The frame.append method is deprecated and will be removed from pandas in a future version. Use pandas.concat instead.\n",
      "  df = df.append(attr_dict, ignore_index = True)\n",
      "/var/folders/7n/1v9m4ykn66ddbcxt5nwgg9280000gn/T/ipykernel_71526/504097100.py:5: FutureWarning: The frame.append method is deprecated and will be removed from pandas in a future version. Use pandas.concat instead.\n",
      "  new_df = inspect_network('../data/date_folders/april_24/graphs/').append(new_df)\n"
     ]
    },
    {
     "name": "stdout",
     "output_type": "stream",
     "text": [
      "../data/date_folders/april_24/graphs/\n",
      "../data/date_folders/april_18/graphs/\n"
     ]
    },
    {
     "name": "stderr",
     "output_type": "stream",
     "text": [
      "/var/folders/7n/1v9m4ykn66ddbcxt5nwgg9280000gn/T/ipykernel_71526/1635624543.py:21: FutureWarning: The frame.append method is deprecated and will be removed from pandas in a future version. Use pandas.concat instead.\n",
      "  df = df.append(attr_dict, ignore_index = True)\n",
      "/var/folders/7n/1v9m4ykn66ddbcxt5nwgg9280000gn/T/ipykernel_71526/1635624543.py:21: FutureWarning: The frame.append method is deprecated and will be removed from pandas in a future version. Use pandas.concat instead.\n",
      "  df = df.append(attr_dict, ignore_index = True)\n",
      "/var/folders/7n/1v9m4ykn66ddbcxt5nwgg9280000gn/T/ipykernel_71526/504097100.py:6: FutureWarning: The frame.append method is deprecated and will be removed from pandas in a future version. Use pandas.concat instead.\n",
      "  new_df = inspect_network('../data/date_folders/april_18/graphs/').append(new_df)\n"
     ]
    }
   ],
   "source": [
    "april_2nd = inspect_network('../data/date_folders/2april/graphs/')\n",
    "new_df = inspect_network('../data/date_folders/4april/graphs/').append(april_2nd)\n",
    "new_df = inspect_network('../data/date_folders/17april/graphs/').append(new_df)\n",
    "new_df = inspect_network('../data/date_folders/23march_chur/graphs/').append(new_df)\n",
    "new_df = inspect_network('../data/date_folders/april_24/graphs/').append(new_df)\n",
    "new_df = inspect_network('../data/date_folders/april_18/graphs/').append(new_df)\n"
   ]
  },
  {
   "cell_type": "code",
   "execution_count": 14,
   "metadata": {},
   "outputs": [
    {
     "data": {
      "text/html": [
       "<div>\n",
       "<style scoped>\n",
       "    .dataframe tbody tr th:only-of-type {\n",
       "        vertical-align: middle;\n",
       "    }\n",
       "\n",
       "    .dataframe tbody tr th {\n",
       "        vertical-align: top;\n",
       "    }\n",
       "\n",
       "    .dataframe thead th {\n",
       "        text-align: right;\n",
       "    }\n",
       "</style>\n",
       "<table border=\"1\" class=\"dataframe\">\n",
       "  <thead>\n",
       "    <tr style=\"text-align: right;\">\n",
       "      <th></th>\n",
       "      <th>name</th>\n",
       "      <th>scrape_date</th>\n",
       "      <th>#nodes</th>\n",
       "      <th>#edges</th>\n",
       "      <th>average_shortest_path_length</th>\n",
       "      <th>Generalized_euclidean</th>\n",
       "      <th>Our_polarity_score</th>\n",
       "    </tr>\n",
       "  </thead>\n",
       "  <tbody>\n",
       "    <tr>\n",
       "      <th>0</th>\n",
       "      <td>FIFA</td>\n",
       "      <td>april_18</td>\n",
       "      <td>523</td>\n",
       "      <td>2123</td>\n",
       "      <td>3.002798</td>\n",
       "      <td>56.123073</td>\n",
       "      <td>0.075624</td>\n",
       "    </tr>\n",
       "    <tr>\n",
       "      <th>1</th>\n",
       "      <td>CallOfDuty</td>\n",
       "      <td>april_18</td>\n",
       "      <td>3</td>\n",
       "      <td>2</td>\n",
       "      <td>1.333333</td>\n",
       "      <td>4.472136</td>\n",
       "      <td>-1.0</td>\n",
       "    </tr>\n",
       "    <tr>\n",
       "      <th>0</th>\n",
       "      <td>communism</td>\n",
       "      <td>april_24</td>\n",
       "      <td>63</td>\n",
       "      <td>91</td>\n",
       "      <td>2.183308</td>\n",
       "      <td>26.951359</td>\n",
       "      <td>-0.225544</td>\n",
       "    </tr>\n",
       "    <tr>\n",
       "      <th>0</th>\n",
       "      <td>politics_nan</td>\n",
       "      <td>23march_chur</td>\n",
       "      <td>326</td>\n",
       "      <td>874</td>\n",
       "      <td>3.287192</td>\n",
       "      <td>40.013832</td>\n",
       "      <td>0.113589</td>\n",
       "    </tr>\n",
       "    <tr>\n",
       "      <th>0</th>\n",
       "      <td>antiwork</td>\n",
       "      <td>17april</td>\n",
       "      <td>248</td>\n",
       "      <td>333</td>\n",
       "      <td>3.553742</td>\n",
       "      <td>89.264635</td>\n",
       "      <td>0.06364</td>\n",
       "    </tr>\n",
       "    <tr>\n",
       "      <th>0</th>\n",
       "      <td>gaming</td>\n",
       "      <td>4april</td>\n",
       "      <td>169</td>\n",
       "      <td>195</td>\n",
       "      <td>4.84707</td>\n",
       "      <td>65.971846</td>\n",
       "      <td>0.274736</td>\n",
       "    </tr>\n",
       "    <tr>\n",
       "      <th>0</th>\n",
       "      <td>music</td>\n",
       "      <td>2april</td>\n",
       "      <td>45</td>\n",
       "      <td>51</td>\n",
       "      <td>3.739394</td>\n",
       "      <td>42.964094</td>\n",
       "      <td>0.097333</td>\n",
       "    </tr>\n",
       "  </tbody>\n",
       "</table>\n",
       "</div>"
      ],
      "text/plain": [
       "           name   scrape_date #nodes #edges average_shortest_path_length  \\\n",
       "0          FIFA      april_18    523   2123                     3.002798   \n",
       "1    CallOfDuty      april_18      3      2                     1.333333   \n",
       "0     communism      april_24     63     91                     2.183308   \n",
       "0  politics_nan  23march_chur    326    874                     3.287192   \n",
       "0      antiwork       17april    248    333                     3.553742   \n",
       "0        gaming        4april    169    195                      4.84707   \n",
       "0         music        2april     45     51                     3.739394   \n",
       "\n",
       "  Generalized_euclidean Our_polarity_score  \n",
       "0             56.123073           0.075624  \n",
       "1              4.472136               -1.0  \n",
       "0             26.951359          -0.225544  \n",
       "0             40.013832           0.113589  \n",
       "0             89.264635            0.06364  \n",
       "0             65.971846           0.274736  \n",
       "0             42.964094           0.097333  "
      ]
     },
     "execution_count": 14,
     "metadata": {},
     "output_type": "execute_result"
    }
   ],
   "source": [
    "new_df"
   ]
  },
  {
   "attachments": {},
   "cell_type": "markdown",
   "metadata": {},
   "source": [
    "# Calculate stats per Network"
   ]
  },
  {
   "attachments": {},
   "cell_type": "markdown",
   "metadata": {},
   "source": [
    "# Check Correlations"
   ]
  },
  {
   "attachments": {},
   "cell_type": "markdown",
   "metadata": {},
   "source": [
    "# lineplots?"
   ]
  }
 ],
 "metadata": {
  "kernelspec": {
   "display_name": "Python 3",
   "language": "python",
   "name": "python3"
  },
  "language_info": {
   "codemirror_mode": {
    "name": "ipython",
    "version": 3
   },
   "file_extension": ".py",
   "mimetype": "text/x-python",
   "name": "python",
   "nbconvert_exporter": "python",
   "pygments_lexer": "ipython3",
   "version": "3.10.2"
  },
  "orig_nbformat": 4
 },
 "nbformat": 4,
 "nbformat_minor": 2
}
