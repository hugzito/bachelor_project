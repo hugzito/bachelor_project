{
 "cells": [
  {
   "cell_type": "code",
   "execution_count": 1,
   "metadata": {},
   "outputs": [],
   "source": [
    "import pandas as pd\n",
    "import seaborn as sns \n",
    "import numpy as np\n",
    "import networkx as nx\n",
    "import os\n",
    "from reqs.measures import * "
   ]
  },
  {
   "attachments": {},
   "cell_type": "markdown",
   "metadata": {},
   "source": [
    "# Import Data"
   ]
  },
  {
   "cell_type": "code",
   "execution_count": 2,
   "metadata": {},
   "outputs": [],
   "source": [
    "gaming = nx.read_gexf('../data/23march_chur/graphs/gaming_network.gexf')"
   ]
  },
  {
   "cell_type": "code",
   "execution_count": 3,
   "metadata": {},
   "outputs": [
    {
     "data": {
      "text/plain": [
       "['antiwork.gexf']"
      ]
     },
     "execution_count": 3,
     "metadata": {},
     "output_type": "execute_result"
    }
   ],
   "source": [
    "os.listdir('../data/17april/graphs/')"
   ]
  },
  {
   "cell_type": "code",
   "execution_count": 4,
   "metadata": {},
   "outputs": [
    {
     "data": {
      "image/png": "[encoded data removed]",
      "text/plain": [
       "<Figure size 432x288 with 1 Axes>"
      ]
     },
     "metadata": {},
     "output_type": "display_data"
    }
   ],
   "source": [
    "G = nx.read_gexf('../data/17april/graphs/antiwork.gexf')\n",
    "graph = nx.to_undirected(G)\n",
    "S = [graph.subgraph(c).copy() for c in sorted(nx.connected_components(graph), key=len, reverse=True)]\n",
    "nx.draw(S[0])"
   ]
  },
  {
   "cell_type": "code",
   "execution_count": 5,
   "metadata": {},
   "outputs": [],
   "source": [
    "def inspect_network(folder):\n",
    "    print(folder)\n",
    "    creation_date = str(input())\n",
    "    df = pd.DataFrame(columns = ['name', 'scrape_date', '#nodes', '#edges', 'average_shortest_path_length', 'Generalized_euclidean', 'Our_polarity_score'])\n",
    "    for file in os.listdir(folder):\n",
    "        graph = nx.read_gexf(folder+file)\n",
    "        graph = nx.to_undirected(graph)\n",
    "        S = [graph.subgraph(c).copy() for c in sorted(nx.connected_components(graph), key=len, reverse=True)]\n",
    "        graph = S[0]\n",
    "        name = file[:-5]\n",
    "\n",
    "        attr_dict = {\n",
    "            'name' : name,\n",
    "            'scrape_date' : creation_date, \n",
    "            '#nodes' : len(graph.nodes()),\n",
    "            '#edges' : len(graph.edges()),\n",
    "            'average_shortest_path_length' : nx.average_shortest_path_length(graph),\n",
    "            'Generalized_euclidean' : do_ge(graph),\n",
    "            'Our_polarity_score' : driver_g(graph) \n",
    "        }\n",
    "        df = df.append(attr_dict, ignore_index = True)\n",
    "    return df"
   ]
  },
  {
   "cell_type": "code",
   "execution_count": 11,
   "metadata": {},
   "outputs": [
    {
     "name": "stdout",
     "output_type": "stream",
     "text": [
      "../date_folders/data/2april/graphs/\n"
     ]
    },
    {
     "ename": "FileNotFoundError",
     "evalue": "[Errno 2] No such file or directory: '../date_folders/data/2april/graphs/'",
     "output_type": "error",
     "traceback": [
      "\u001b[0;31m---------------------------------------------------------------------------\u001b[0m",
      "\u001b[0;31mFileNotFoundError\u001b[0m                         Traceback (most recent call last)",
      "\u001b[1;32m/Users/christianrasmussen/Desktop/bsc3/Try_again/bachelor_project/notebooks/Summaty_stats.ipynb Cell 7\u001b[0m in \u001b[0;36m<cell line: 1>\u001b[0;34m()\u001b[0m\n\u001b[0;32m----> <a href='vscode-notebook-cell:/Users/christianrasmussen/Desktop/bsc3/Try_again/bachelor_project/notebooks/Summaty_stats.ipynb#W5sZmlsZQ%3D%3D?line=0'>1</a>\u001b[0m april_2nd \u001b[39m=\u001b[39m inspect_network(\u001b[39m'\u001b[39;49m\u001b[39m../date_folders/data/2april/graphs/\u001b[39;49m\u001b[39m'\u001b[39;49m)\n\u001b[1;32m      <a href='vscode-notebook-cell:/Users/christianrasmussen/Desktop/bsc3/Try_again/bachelor_project/notebooks/Summaty_stats.ipynb#W5sZmlsZQ%3D%3D?line=1'>2</a>\u001b[0m new_df \u001b[39m=\u001b[39m inspect_network(\u001b[39m'\u001b[39m\u001b[39m../date_folders/data/4april/graphs/\u001b[39m\u001b[39m'\u001b[39m)\u001b[39m.\u001b[39mappend(april_2nd)\n\u001b[1;32m      <a href='vscode-notebook-cell:/Users/christianrasmussen/Desktop/bsc3/Try_again/bachelor_project/notebooks/Summaty_stats.ipynb#W5sZmlsZQ%3D%3D?line=2'>3</a>\u001b[0m new_df \u001b[39m=\u001b[39m inspect_network(\u001b[39m'\u001b[39m\u001b[39m../date_folders/data/17april/graphs/\u001b[39m\u001b[39m'\u001b[39m)\u001b[39m.\u001b[39mappend(new_df)\n",
      "\u001b[1;32m/Users/christianrasmussen/Desktop/bsc3/Try_again/bachelor_project/notebooks/Summaty_stats.ipynb Cell 7\u001b[0m in \u001b[0;36minspect_network\u001b[0;34m(folder)\u001b[0m\n\u001b[1;32m      <a href='vscode-notebook-cell:/Users/christianrasmussen/Desktop/bsc3/Try_again/bachelor_project/notebooks/Summaty_stats.ipynb#W5sZmlsZQ%3D%3D?line=2'>3</a>\u001b[0m creation_date \u001b[39m=\u001b[39m \u001b[39mstr\u001b[39m(\u001b[39minput\u001b[39m())\n\u001b[1;32m      <a href='vscode-notebook-cell:/Users/christianrasmussen/Desktop/bsc3/Try_again/bachelor_project/notebooks/Summaty_stats.ipynb#W5sZmlsZQ%3D%3D?line=3'>4</a>\u001b[0m df \u001b[39m=\u001b[39m pd\u001b[39m.\u001b[39mDataFrame(columns \u001b[39m=\u001b[39m [\u001b[39m'\u001b[39m\u001b[39mname\u001b[39m\u001b[39m'\u001b[39m, \u001b[39m'\u001b[39m\u001b[39mscrape_date\u001b[39m\u001b[39m'\u001b[39m, \u001b[39m'\u001b[39m\u001b[39m#nodes\u001b[39m\u001b[39m'\u001b[39m, \u001b[39m'\u001b[39m\u001b[39m#edges\u001b[39m\u001b[39m'\u001b[39m, \u001b[39m'\u001b[39m\u001b[39maverage_shortest_path_length\u001b[39m\u001b[39m'\u001b[39m, \u001b[39m'\u001b[39m\u001b[39mGeneralized_euclidean\u001b[39m\u001b[39m'\u001b[39m, \u001b[39m'\u001b[39m\u001b[39mOur_polarity_score\u001b[39m\u001b[39m'\u001b[39m])\n\u001b[0;32m----> <a href='vscode-notebook-cell:/Users/christianrasmussen/Desktop/bsc3/Try_again/bachelor_project/notebooks/Summaty_stats.ipynb#W5sZmlsZQ%3D%3D?line=4'>5</a>\u001b[0m \u001b[39mfor\u001b[39;00m file \u001b[39min\u001b[39;00m os\u001b[39m.\u001b[39;49mlistdir(folder):\n\u001b[1;32m      <a href='vscode-notebook-cell:/Users/christianrasmussen/Desktop/bsc3/Try_again/bachelor_project/notebooks/Summaty_stats.ipynb#W5sZmlsZQ%3D%3D?line=5'>6</a>\u001b[0m     graph \u001b[39m=\u001b[39m nx\u001b[39m.\u001b[39mread_gexf(folder\u001b[39m+\u001b[39mfile)\n\u001b[1;32m      <a href='vscode-notebook-cell:/Users/christianrasmussen/Desktop/bsc3/Try_again/bachelor_project/notebooks/Summaty_stats.ipynb#W5sZmlsZQ%3D%3D?line=6'>7</a>\u001b[0m     graph \u001b[39m=\u001b[39m nx\u001b[39m.\u001b[39mto_undirected(graph)\n",
      "\u001b[0;31mFileNotFoundError\u001b[0m: [Errno 2] No such file or directory: '../date_folders/data/2april/graphs/'"
     ]
    }
   ],
   "source": [
    "april_2nd = inspect_network('../date_folders/data/2april/graphs/')\n",
    "new_df = inspect_network('../date_folders/data/4april/graphs/').append(april_2nd)\n",
    "new_df = inspect_network('../date_folders/data/17april/graphs/').append(new_df)\n",
    "new_df = inspect_network('../date_folders/data/23march_chur/graphs/').append(new_df)\n"
   ]
  },
  {
   "cell_type": "code",
   "execution_count": 10,
   "metadata": {},
   "outputs": [
    {
     "data": {
      "text/html": [
       "<div>\n",
       "<style scoped>\n",
       "    .dataframe tbody tr th:only-of-type {\n",
       "        vertical-align: middle;\n",
       "    }\n",
       "\n",
       "    .dataframe tbody tr th {\n",
       "        vertical-align: top;\n",
       "    }\n",
       "\n",
       "    .dataframe thead th {\n",
       "        text-align: right;\n",
       "    }\n",
       "</style>\n",
       "<table border=\"1\" class=\"dataframe\">\n",
       "  <thead>\n",
       "    <tr style=\"text-align: right;\">\n",
       "      <th></th>\n",
       "      <th>name</th>\n",
       "      <th>scrape_date</th>\n",
       "      <th>#nodes</th>\n",
       "      <th>#edges</th>\n",
       "      <th>average_shortest_path_length</th>\n",
       "      <th>Generalized_euclidean</th>\n",
       "      <th>Our_polarity_score</th>\n",
       "    </tr>\n",
       "  </thead>\n",
       "  <tbody>\n",
       "    <tr>\n",
       "      <th>0</th>\n",
       "      <td>antiwork</td>\n",
       "      <td>april_17</td>\n",
       "      <td>248</td>\n",
       "      <td>333</td>\n",
       "      <td>3.553742</td>\n",
       "      <td>89.264635</td>\n",
       "      <td>0.06364</td>\n",
       "    </tr>\n",
       "    <tr>\n",
       "      <th>0</th>\n",
       "      <td>gaming</td>\n",
       "      <td>april_4</td>\n",
       "      <td>169</td>\n",
       "      <td>195</td>\n",
       "      <td>4.84707</td>\n",
       "      <td>65.971846</td>\n",
       "      <td>0.274736</td>\n",
       "    </tr>\n",
       "    <tr>\n",
       "      <th>0</th>\n",
       "      <td>music</td>\n",
       "      <td>april_2</td>\n",
       "      <td>45</td>\n",
       "      <td>51</td>\n",
       "      <td>3.739394</td>\n",
       "      <td>42.964094</td>\n",
       "      <td>0.097333</td>\n",
       "    </tr>\n",
       "  </tbody>\n",
       "</table>\n",
       "</div>"
      ],
      "text/plain": [
       "       name scrape_date #nodes #edges average_shortest_path_length  \\\n",
       "0  antiwork    april_17    248    333                     3.553742   \n",
       "0    gaming     april_4    169    195                      4.84707   \n",
       "0     music     april_2     45     51                     3.739394   \n",
       "\n",
       "  Generalized_euclidean Our_polarity_score  \n",
       "0             89.264635            0.06364  \n",
       "0             65.971846           0.274736  \n",
       "0             42.964094           0.097333  "
      ]
     },
     "execution_count": 10,
     "metadata": {},
     "output_type": "execute_result"
    }
   ],
   "source": [
    "new_df"
   ]
  },
  {
   "attachments": {},
   "cell_type": "markdown",
   "metadata": {},
   "source": [
    "# Calculate stats per Network"
   ]
  },
  {
   "attachments": {},
   "cell_type": "markdown",
   "metadata": {},
   "source": [
    "# Check Correlations"
   ]
  },
  {
   "attachments": {},
   "cell_type": "markdown",
   "metadata": {},
   "source": [
    "# lineplots?"
   ]
  }
 ],
 "metadata": {
  "kernelspec": {
   "display_name": "Python 3",
   "language": "python",
   "name": "python3"
  },
  "language_info": {
   "codemirror_mode": {
    "name": "ipython",
    "version": 3
   },
   "file_extension": ".py",
   "mimetype": "text/x-python",
   "name": "python",
   "nbconvert_exporter": "python",
   "pygments_lexer": "ipython3",
   "version": "3.10.2"
  },
  "orig_nbformat": 4
 },
 "nbformat": 4,
 "nbformat_minor": 2
}
