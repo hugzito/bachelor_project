{
 "cells": [
  {
   "cell_type": "code",
   "execution_count": 2,
   "metadata": {},
   "outputs": [],
   "source": [
    "import pandas as pd\n",
    "import seaborn as sns "
   ]
  },
  {
   "attachments": {},
   "cell_type": "markdown",
   "metadata": {},
   "source": [
    "# Notebook for testing different Sentiment classification models"
   ]
  },
  {
   "cell_type": "code",
   "execution_count": 6,
   "metadata": {},
   "outputs": [],
   "source": [
    "### TEST DATA LOAD\n",
    "\n",
    "politics = pd.read_csv('../../data/date_folders/feb_28/scrapes/politics.csv')\n",
    "antiwork = pd.read_csv('../../data/date_folders/april_17/scrapes/antiwork.csv')\n",
    "\n",
    "datasets = [politics, antiwork]\n"
   ]
  },
  {
   "attachments": {},
   "cell_type": "markdown",
   "metadata": {},
   "source": [
    "## Using Textblob"
   ]
  },
  {
   "cell_type": "code",
   "execution_count": 3,
   "metadata": {},
   "outputs": [
    {
     "name": "stdout",
     "output_type": "stream",
     "text": [
      "Requirement already satisfied: textblob in c:\\users\\chris\\anaconda3\\lib\\site-packages (0.17.1)\n",
      "Requirement already satisfied: nltk>=3.1; python_version >= \"3\" in c:\\users\\chris\\anaconda3\\lib\\site-packages (from textblob) (3.5)\n",
      "Requirement already satisfied: joblib in c:\\users\\chris\\anaconda3\\lib\\site-packages (from nltk>=3.1; python_version >= \"3\"->textblob) (0.17.0)\n",
      "Requirement already satisfied: click in c:\\users\\chris\\anaconda3\\lib\\site-packages (from nltk>=3.1; python_version >= \"3\"->textblob) (7.1.2)\n",
      "Requirement already satisfied: tqdm in c:\\users\\chris\\anaconda3\\lib\\site-packages (from nltk>=3.1; python_version >= \"3\"->textblob) (4.50.2)\n",
      "Requirement already satisfied: regex in c:\\users\\chris\\anaconda3\\lib\\site-packages (from nltk>=3.1; python_version >= \"3\"->textblob) (2020.10.15)\n",
      "Note: you may need to restart the kernel to use updated packages.\n"
     ]
    }
   ],
   "source": [
    "pip install textblob"
   ]
  },
  {
   "cell_type": "code",
   "execution_count": 7,
   "metadata": {},
   "outputs": [],
   "source": [
    "# import it\n",
    "from textblob import TextBlob\n",
    "\n",
    "#call the classifier\n",
    "def sentiment_texblob(row):\n",
    "  \n",
    "    classifier = TextBlob(row)\n",
    "    polarity = classifier.sentiment.polarity\n",
    "    # subjectivity = classifier.sentiment.subjectivity\n",
    "    \n",
    "    return polarity"
   ]
  },
  {
   "cell_type": "code",
   "execution_count": 8,
   "metadata": {},
   "outputs": [
    {
     "data": {
      "text/plain": [
       "0.5"
      ]
     },
     "execution_count": 8,
     "metadata": {},
     "output_type": "execute_result"
    }
   ],
   "source": [
    "sentiment_texblob('I love balls')"
   ]
  },
  {
   "cell_type": "code",
   "execution_count": 12,
   "metadata": {},
   "outputs": [],
   "source": [
    "for dataframe in datasets:\n",
    "    sentiments = []\n",
    "    for comment in dataframe['comment_text']:\n",
    "        sentiment = sentiment_texblob(comment)\n",
    "        sentiments.append(sentiment)\n",
    "    dataframe['comment_sentiment'] = sentiments"
   ]
  },
  {
   "cell_type": "code",
   "execution_count": 13,
   "metadata": {},
   "outputs": [
    {
     "data": {
      "text/plain": [
       "<AxesSubplot:xlabel='comment_sentiment', ylabel='Count'>"
      ]
     },
     "execution_count": 13,
     "metadata": {},
     "output_type": "execute_result"
    },
    {
     "data": {
      "image/png": "[encoded data removed]",
      "text/plain": [
       "<Figure size 432x288 with 1 Axes>"
      ]
     },
     "metadata": {
      "needs_background": "light"
     },
     "output_type": "display_data"
    }
   ],
   "source": [
    "sns.histplot(data=politics, x='comment_sentiment')"
   ]
  },
  {
   "cell_type": "code",
   "execution_count": 14,
   "metadata": {},
   "outputs": [
    {
     "data": {
      "text/plain": [
       "<AxesSubplot:xlabel='comment_sentiment', ylabel='Count'>"
      ]
     },
     "execution_count": 14,
     "metadata": {},
     "output_type": "execute_result"
    },
    {
     "data": {
      "image/png": "[encoded data removed]",
      "text/plain": [
       "<Figure size 432x288 with 1 Axes>"
      ]
     },
     "metadata": {
      "needs_background": "light"
     },
     "output_type": "display_data"
    }
   ],
   "source": [
    "sns.histplot(data=antiwork, x='comment_sentiment')\n"
   ]
  },
  {
   "attachments": {},
   "cell_type": "markdown",
   "metadata": {},
   "source": [
    "## Using Vader"
   ]
  },
  {
   "cell_type": "code",
   "execution_count": 21,
   "metadata": {},
   "outputs": [
    {
     "name": "stdout",
     "output_type": "stream",
     "text": [
      "Collecting vaderSentiment\n",
      "  Downloading vaderSentiment-3.3.2-py2.py3-none-any.whl (125 kB)\n",
      "Requirement already satisfied: requests in c:\\users\\chris\\anaconda3\\lib\\site-packages (from vaderSentiment) (2.24.0)\n",
      "Requirement already satisfied: idna<3,>=2.5 in c:\\users\\chris\\anaconda3\\lib\\site-packages (from requests->vaderSentiment) (2.10)\n",
      "Requirement already satisfied: chardet<4,>=3.0.2 in c:\\users\\chris\\anaconda3\\lib\\site-packages (from requests->vaderSentiment) (3.0.4)\n",
      "Requirement already satisfied: urllib3!=1.25.0,!=1.25.1,<1.26,>=1.21.1 in c:\\users\\chris\\anaconda3\\lib\\site-packages (from requests->vaderSentiment) (1.25.11)\n",
      "Requirement already satisfied: certifi>=2017.4.17 in c:\\users\\chris\\anaconda3\\lib\\site-packages (from requests->vaderSentiment) (2020.6.20)\n",
      "Installing collected packages: vaderSentiment\n",
      "Successfully installed vaderSentiment-3.3.2\n",
      "Note: you may need to restart the kernel to use updated packages.\n"
     ]
    }
   ],
   "source": [
    "pip install vaderSentiment"
   ]
  },
  {
   "cell_type": "code",
   "execution_count": 15,
   "metadata": {},
   "outputs": [],
   "source": [
    "#import the library\n",
    "from vaderSentiment.vaderSentiment import SentimentIntensityAnalyzer\n",
    "\n",
    "#calculate the negative, positive, neutral and compound scores, plus verbal evaluation\n",
    "def sentiment_vader(sentence):\n",
    "\n",
    "    # Create a SentimentIntensityAnalyzer object.\n",
    "    sid_obj = SentimentIntensityAnalyzer()\n",
    "\n",
    "    sentiment_dict = sid_obj.polarity_scores(sentence)\n",
    "    compound = sentiment_dict['compound']\n",
    "    \n",
    "    return compound"
   ]
  },
  {
   "cell_type": "code",
   "execution_count": 16,
   "metadata": {},
   "outputs": [],
   "source": [
    "for dataframe in datasets:\n",
    "    sentiments = []\n",
    "    for comment in dataframe['comment_text']:\n",
    "        sentiment = sentiment_vader(comment)\n",
    "        sentiments.append(sentiment)\n",
    "    dataframe['comment_sentiment'] = sentiments"
   ]
  },
  {
   "cell_type": "code",
   "execution_count": 24,
   "metadata": {},
   "outputs": [
    {
     "data": {
      "text/plain": [
       "<AxesSubplot:xlabel='comment_sentiment', ylabel='Count'>"
      ]
     },
     "execution_count": 24,
     "metadata": {},
     "output_type": "execute_result"
    },
    {
     "data": {
      "image/png": "[encoded data removed]",
      "text/plain": [
       "<Figure size 432x288 with 1 Axes>"
      ]
     },
     "metadata": {
      "needs_background": "light"
     },
     "output_type": "display_data"
    }
   ],
   "source": [
    "sns.histplot(data=politics, x='comment_sentiment')"
   ]
  },
  {
   "cell_type": "code",
   "execution_count": 17,
   "metadata": {},
   "outputs": [
    {
     "data": {
      "text/plain": [
       "<AxesSubplot:xlabel='comment_sentiment', ylabel='Count'>"
      ]
     },
     "execution_count": 17,
     "metadata": {},
     "output_type": "execute_result"
    },
    {
     "data": {
      "image/png": "[encoded data removed]",
      "text/plain": [
       "<Figure size 432x288 with 1 Axes>"
      ]
     },
     "metadata": {
      "needs_background": "light"
     },
     "output_type": "display_data"
    }
   ],
   "source": [
    "sns.histplot(data=antiwork, x='comment_sentiment')"
   ]
  },
  {
   "attachments": {},
   "cell_type": "markdown",
   "metadata": {},
   "source": [
    "## Happy transformer"
   ]
  },
  {
   "cell_type": "code",
   "execution_count": 25,
   "metadata": {},
   "outputs": [
    {
     "name": "stdout",
     "output_type": "stream",
     "text": [
      "Collecting happytransformer\n",
      "  Downloading happytransformer-2.4.1-py3-none-any.whl (45 kB)\n",
      "Collecting datasets>=1.6.0\n",
      "  Downloading datasets-2.11.0-py3-none-any.whl (468 kB)\n",
      "Requirement already satisfied: torch>=1.0 in c:\\users\\chris\\anaconda3\\lib\\site-packages (from happytransformer) (1.10.2)\n",
      "Requirement already satisfied: tqdm>=4.43 in c:\\users\\chris\\anaconda3\\lib\\site-packages (from happytransformer) (4.50.2)\n",
      "Collecting protobuf\n",
      "  Downloading protobuf-4.22.3-cp38-cp38-win_amd64.whl (420 kB)\n",
      "Requirement already satisfied: sentencepiece in c:\\users\\chris\\anaconda3\\lib\\site-packages (from happytransformer) (0.1.97)\n",
      "Requirement already satisfied: transformers>=4.4.0 in c:\\users\\chris\\anaconda3\\lib\\site-packages (from happytransformer) (4.26.1)\n",
      "Requirement already satisfied: numpy>=1.17 in c:\\users\\chris\\anaconda3\\lib\\site-packages (from datasets>=1.6.0->happytransformer) (1.19.2)\n",
      "Collecting xxhash\n",
      "  Downloading xxhash-3.2.0-cp38-cp38-win_amd64.whl (30 kB)\n",
      "Requirement already satisfied: packaging in c:\\users\\chris\\anaconda3\\lib\\site-packages (from datasets>=1.6.0->happytransformer) (20.4)\n",
      "Requirement already satisfied: pyyaml>=5.1 in c:\\users\\chris\\anaconda3\\lib\\site-packages (from datasets>=1.6.0->happytransformer) (5.3.1)\n",
      "Collecting pyarrow>=8.0.0\n",
      "  Downloading pyarrow-11.0.0-cp38-cp38-win_amd64.whl (20.6 MB)\n",
      "Requirement already satisfied: huggingface-hub<1.0.0,>=0.11.0 in c:\\users\\chris\\anaconda3\\lib\\site-packages (from datasets>=1.6.0->happytransformer) (0.12.0)\n",
      "Collecting multiprocess\n",
      "  Downloading multiprocess-0.70.14-py38-none-any.whl (132 kB)\n",
      "Collecting aiohttp\n",
      "  Downloading aiohttp-3.8.4-cp38-cp38-win_amd64.whl (324 kB)\n",
      "Requirement already satisfied: pandas in c:\\users\\chris\\anaconda3\\lib\\site-packages (from datasets>=1.6.0->happytransformer) (1.1.3)\n",
      "Collecting responses<0.19\n",
      "  Downloading responses-0.18.0-py3-none-any.whl (38 kB)\n",
      "Collecting dill<0.3.7,>=0.3.0\n",
      "  Downloading dill-0.3.6-py3-none-any.whl (110 kB)\n",
      "Collecting fsspec[http]>=2021.11.1\n",
      "  Downloading fsspec-2023.4.0-py3-none-any.whl (153 kB)\n",
      "Requirement already satisfied: requests>=2.19.0 in c:\\users\\chris\\anaconda3\\lib\\site-packages (from datasets>=1.6.0->happytransformer) (2.24.0)\n",
      "Requirement already satisfied: typing-extensions in c:\\users\\chris\\anaconda3\\lib\\site-packages (from torch>=1.0->happytransformer) (3.7.4.3)\n",
      "Requirement already satisfied: regex!=2019.12.17 in c:\\users\\chris\\anaconda3\\lib\\site-packages (from transformers>=4.4.0->happytransformer) (2020.10.15)\n",
      "Requirement already satisfied: filelock in c:\\users\\chris\\anaconda3\\lib\\site-packages (from transformers>=4.4.0->happytransformer) (3.0.12)\n",
      "Requirement already satisfied: tokenizers!=0.11.3,<0.14,>=0.11.1 in c:\\users\\chris\\anaconda3\\lib\\site-packages (from transformers>=4.4.0->happytransformer) (0.13.2)\n",
      "Requirement already satisfied: pyparsing>=2.0.2 in c:\\users\\chris\\anaconda3\\lib\\site-packages (from packaging->datasets>=1.6.0->happytransformer) (2.4.7)\n",
      "Requirement already satisfied: six in c:\\users\\chris\\anaconda3\\lib\\site-packages (from packaging->datasets>=1.6.0->happytransformer) (1.15.0)\n",
      "Collecting multidict<7.0,>=4.5\n",
      "  Downloading multidict-6.0.4-cp38-cp38-win_amd64.whl (28 kB)\n",
      "Collecting async-timeout<5.0,>=4.0.0a3\n",
      "  Downloading async_timeout-4.0.2-py3-none-any.whl (5.8 kB)\n",
      "Collecting aiosignal>=1.1.2\n",
      "  Downloading aiosignal-1.3.1-py3-none-any.whl (7.6 kB)\n",
      "Collecting frozenlist>=1.1.1\n",
      "  Downloading frozenlist-1.3.3-cp38-cp38-win_amd64.whl (34 kB)\n",
      "Requirement already satisfied: attrs>=17.3.0 in c:\\users\\chris\\anaconda3\\lib\\site-packages (from aiohttp->datasets>=1.6.0->happytransformer) (20.3.0)\n",
      "Collecting charset-normalizer<4.0,>=2.0\n",
      "  Downloading charset_normalizer-3.1.0-cp38-cp38-win_amd64.whl (96 kB)\n",
      "Collecting yarl<2.0,>=1.0\n",
      "  Downloading yarl-1.9.1-cp38-cp38-win_amd64.whl (61 kB)\n",
      "Requirement already satisfied: python-dateutil>=2.7.3 in c:\\users\\chris\\anaconda3\\lib\\site-packages (from pandas->datasets>=1.6.0->happytransformer) (2.8.1)\n",
      "Requirement already satisfied: pytz>=2017.2 in c:\\users\\chris\\anaconda3\\lib\\site-packages (from pandas->datasets>=1.6.0->happytransformer) (2020.1)\n",
      "Requirement already satisfied: urllib3>=1.25.10 in c:\\users\\chris\\anaconda3\\lib\\site-packages (from responses<0.19->datasets>=1.6.0->happytransformer) (1.25.11)\n",
      "Requirement already satisfied: chardet<4,>=3.0.2 in c:\\users\\chris\\anaconda3\\lib\\site-packages (from requests>=2.19.0->datasets>=1.6.0->happytransformer) (3.0.4)\n",
      "Requirement already satisfied: certifi>=2017.4.17 in c:\\users\\chris\\anaconda3\\lib\\site-packages (from requests>=2.19.0->datasets>=1.6.0->happytransformer) (2020.6.20)\n",
      "Requirement already satisfied: idna<3,>=2.5 in c:\\users\\chris\\anaconda3\\lib\\site-packages (from requests>=2.19.0->datasets>=1.6.0->happytransformer) (2.10)\n",
      "Installing collected packages: xxhash, pyarrow, dill, multiprocess, multidict, async-timeout, frozenlist, aiosignal, charset-normalizer, yarl, aiohttp, responses, fsspec, datasets, protobuf, happytransformer\n",
      "  Attempting uninstall: fsspec\n",
      "    Found existing installation: fsspec 0.8.3\n",
      "    Uninstalling fsspec-0.8.3:\n",
      "      Successfully uninstalled fsspec-0.8.3\n",
      "Successfully installed aiohttp-3.8.4 aiosignal-1.3.1 async-timeout-4.0.2 charset-normalizer-3.1.0 datasets-2.11.0 dill-0.3.6 frozenlist-1.3.3 fsspec-2023.4.0 happytransformer-2.4.1 multidict-6.0.4 multiprocess-0.70.14 protobuf-4.22.3 pyarrow-11.0.0 responses-0.18.0 xxhash-3.2.0 yarl-1.9.1\n",
      "Note: you may need to restart the kernel to use updated packages.\n"
     ]
    },
    {
     "name": "stderr",
     "output_type": "stream",
     "text": [
      "ERROR: After October 2020 you may experience errors when installing or updating packages. This is because pip will change the way that it resolves dependency conflicts.\n",
      "\n",
      "We recommend you use --use-feature=2020-resolver to test your packages with the new resolver before it becomes the default.\n",
      "\n",
      "datasets 2.11.0 requires tqdm>=4.62.1, but you'll have tqdm 4.50.2 which is incompatible.\n"
     ]
    }
   ],
   "source": [
    "pip install happytransformer"
   ]
  },
  {
   "cell_type": "code",
   "execution_count": 34,
   "metadata": {},
   "outputs": [
    {
     "name": "stderr",
     "output_type": "stream",
     "text": [
      "04/25/2023 16:44:51 - INFO - happytransformer.happy_transformer -   Using model: cpu\n"
     ]
    }
   ],
   "source": [
    "from happytransformer import HappyTextClassification\n",
    "happy_tc = HappyTextClassification(model_type=\"DISTILBERT\", model_name=\"distilbert-base-uncased-finetuned-sst-2-english\", num_labels=2)\n",
    "\n",
    "sentiments = []\n",
    "for comment in politics['comment_text']:\n",
    "    comment = comment[:512]\n",
    "    sentiment = happy_tc.classify_text(comment)\n",
    "    if sentiment.label == 'NEGATIVE':\n",
    "        sentiment = -abs(sentiment.score)\n",
    "    else:\n",
    "        sentiment = sentiment.score\n",
    "    sentiments.append(sentiment)\n",
    "politics['comment_sentiment'] = sentiments"
   ]
  },
  {
   "cell_type": "code",
   "execution_count": 35,
   "metadata": {},
   "outputs": [
    {
     "data": {
      "text/plain": [
       "TextClassificationResult(label='POSITIVE', score=0.9998340606689453)"
      ]
     },
     "execution_count": 35,
     "metadata": {},
     "output_type": "execute_result"
    }
   ],
   "source": [
    "happy_tc.classify_text('I love balls')"
   ]
  },
  {
   "cell_type": "code",
   "execution_count": 36,
   "metadata": {},
   "outputs": [
    {
     "data": {
      "text/plain": [
       "<AxesSubplot:xlabel='comment_sentiment', ylabel='Count'>"
      ]
     },
     "execution_count": 36,
     "metadata": {},
     "output_type": "execute_result"
    },
    {
     "data": {
      "image/png": "[encoded data removed]",
      "text/plain": [
       "<Figure size 432x288 with 1 Axes>"
      ]
     },
     "metadata": {
      "needs_background": "light"
     },
     "output_type": "display_data"
    }
   ],
   "source": [
    "sns.histplot(data=politics, x='comment_sentiment')"
   ]
  },
  {
   "cell_type": "code",
   "execution_count": 18,
   "metadata": {},
   "outputs": [],
   "source": [
    "import random"
   ]
  },
  {
   "cell_type": "code",
   "execution_count": 24,
   "metadata": {},
   "outputs": [
    {
     "name": "stdout",
     "output_type": "stream",
     "text": [
      "comment: So basically he's just an actor playing a roll he's getting paid for... Hmmm.\n",
      "Score: 0.0\n",
      "\n",
      "comment: I agree. Let’s stop subsidizing the red states and let them fend for themselves.\n",
      "Score: 0.0\n",
      "\n",
      "comment: Water is wet\n",
      "Score: -0.1\n",
      "\n",
      "comment: One crook was held accountable.  One of those super majority juries will hold the other accountable at some point.\n",
      "Score: 0.10416666666666666\n",
      "\n",
      "comment: Oh no not fines\n",
      "Score: 0.0\n",
      "\n",
      "comment: I strongly suspect this is something the Pentagon declined to include in the Presidential briefings….\n",
      "Score: 0.4333333333333333\n",
      "\n",
      "comment: Nothing would help democrats more than violence caused by trump supporters.\n",
      "Score: 0.5\n",
      "\n",
      "comment: Those are actually not mutually exclusive\n",
      "Score: 0.0\n",
      "\n",
      "comment: And you think *we* have conspiracy theories?!\n",
      "Score: 0.0\n",
      "\n",
      "comment: Republicans always lie.\n",
      "Score: 0.0\n",
      "\n"
     ]
    }
   ],
   "source": [
    "for i in range(10):\n",
    "    sen = random.choice(politics['comment_text'])\n",
    "    print(f'comment: {sen}\\nScore: {sentiment_texblob(sen)}\\n')"
   ]
  },
  {
   "cell_type": "code",
   "execution_count": null,
   "metadata": {},
   "outputs": [],
   "source": []
  }
 ],
 "metadata": {
  "kernelspec": {
   "display_name": "base",
   "language": "python",
   "name": "python3"
  },
  "language_info": {
   "codemirror_mode": {
    "name": "ipython",
    "version": 3
   },
   "file_extension": ".py",
   "mimetype": "text/x-python",
   "name": "python",
   "nbconvert_exporter": "python",
   "pygments_lexer": "ipython3",
   "version": "3.8.5"
  },
  "orig_nbformat": 4
 },
 "nbformat": 4,
 "nbformat_minor": 2
}
