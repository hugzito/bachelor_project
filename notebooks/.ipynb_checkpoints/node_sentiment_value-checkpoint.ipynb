{
 "cells": [
  {
   "cell_type": "markdown",
   "metadata": {},
   "source": [
    "# Including edge sentiment values in polarity score"
   ]
  },
  {
   "cell_type": "markdown",
   "metadata": {},
   "source": [
    "### Imports"
   ]
  },
  {
   "cell_type": "code",
   "execution_count": null,
   "metadata": {},
   "outputs": [],
   "source": [
    "import pandas as pd\n",
    "import networkx as nx"
   ]
  },
  {
   "cell_type": "markdown",
   "metadata": {},
   "source": [
    "### Functions"
   ]
  },
  {
   "cell_type": "code",
   "execution_count": null,
   "metadata": {},
   "outputs": [],
   "source": [
    "G = nx.read_gexf('../data/19march/graphs/HuntShowdown_network.gexf')\n",
    "\n",
    "node_polarity_dict = {}\n",
    "\n",
    "for node in G.nodes(data=True):\n",
    "    current_node = node[0]\n",
    "\n",
    "    if current_node not in node_polarity_dict.keys():\n",
    "        node_polarity_dict[current_node] = []\n",
    "\n",
    "    for edge in G.edges(data=True):\n",
    "        to_node = edge[1]\n",
    "\n",
    "        if to_node == current_node:\n",
    "            sentiment = edge[2]['attr']\n",
    "            node_polarity_dict[current_node].append(sentiment)\n",
    "\n",
    "print(node_polarity_dict)"
   ]
  },
  {
   "cell_type": "code",
   "execution_count": 1,
   "metadata": {},
   "outputs": [
    {
     "name": "stdout",
     "output_type": "stream",
     "text": [
      "0.05714285714285715 ~0\n",
      "0.9428571428571428 ~0\n",
      "0.4857142857142857 ~0\n",
      "0.5 ~1\n",
      "0.0 0\n",
      "1.0 0\n",
      "0.5 0\n",
      "0.5 1\n"
     ]
    }
   ],
   "source": [
    "high_neg = [0, 0, 0, 0.1, 0.1, 0, 0.2]\n",
    "high_pos = [1, 1, 1, 0.9, 0.9, 1, 0.8]\n",
    "high_mid = [0.5, 0.5, 0.5, 0.4, 0.4, 0.5, 0.6]\n",
    "high_pol = [0.3, 0.3, 0.7, 0.7, 0.2, 0.2, 0.8, 0.8]\n",
    "total_neg = [0, 0, 0, 0, 0, 0, 0]\n",
    "total_pos = [1, 1, 1, 1, 1, 1, 1]\n",
    "total_mid = [0.5, 0.5, 0.5, 0.5, 0.5, 0.5, 0.5]\n",
    "total_pol = [0, 0, 0, 0, 1, 1, 1, 1]\n",
    "\n",
    "test_scores = [high_neg, high_pos, high_mid, high_pol, total_neg, total_pos, total_mid, total_pol]\n",
    "ideal_out = ['~0', '~0', '~0', '~1', '0', '0', '0', '1']\n",
    "\n",
    "def pol_score(lis):\n",
    "    for i, n in enumerate(lis):\n",
    "        \n",
    "    averaged = sum(lis)/len(lis)\n",
    "    return averaged\n",
    "\n",
    "for idx, i in enumerate(test_scores):\n",
    "    print(pol_score(i), ideal_out[idx])"
   ]
  },
  {
   "cell_type": "code",
   "execution_count": null,
   "metadata": {},
   "outputs": [],
   "source": []
  }
 ],
 "metadata": {
  "kernelspec": {
   "display_name": "Python 3 (ipykernel)",
   "language": "python",
   "name": "python3"
  },
  "language_info": {
   "codemirror_mode": {
    "name": "ipython",
    "version": 3
   },
   "file_extension": ".py",
   "mimetype": "text/x-python",
   "name": "python",
   "nbconvert_exporter": "python",
   "pygments_lexer": "ipython3",
   "version": "3.10.10"
  }
 },
 "nbformat": 4,
 "nbformat_minor": 2
}
