{
 "cells": [
  {
   "cell_type": "code",
   "execution_count": null,
   "metadata": {},
   "outputs": [],
   "source": [
    "from reqs.measures import *"
   ]
  },
  {
   "cell_type": "code",
   "execution_count": null,
   "metadata": {},
   "outputs": [],
   "source": [
    "# networks to run and print results from\n",
    "network_list = [\n",
    "    ['gaming', '../data/date_folders/4april/graphs/'],\n",
    "    ['tarkov_network', '../data/date_folders/19march/graphs/'],\n",
    "    ['CallOfDuty', '../data/date_folders/april_18/graphs/'],\n",
    "    ['FIFA', '../data/date_folders/april_18/graphs/'],\n",
    "    ['politics_nan', '../data/date_folders/23march_chur/graphs/'],\n",
    "    ['worldnews', '../data/date_folders/23april/graphs/'],\n",
    "    ['PoliticalDiscussion', '../data/date_folders/23april/graphs/'],\n",
    "    ['ukpolitics', '../data/date_folders/23april/graphs/'],\n",
    "    ['democrats', '../data/date_folders/23april/graphs/'],\n",
    "    ['Republican', '../data/date_folders/23april/graphs/']\n",
    "]"
   ]
  },
  {
   "cell_type": "code",
   "execution_count": null,
   "metadata": {},
   "outputs": [],
   "source": [
    "for subreddit, folderpath in network_list:\n",
    "    print(subreddit)\n",
    "    G = nx.read_gexf(f'{folderpath}{subreddit}.gexf')\n",
    "    print(do_ge(G))"
   ]
  }
 ],
 "metadata": {
  "kernelspec": {
   "display_name": "thesis",
   "language": "python",
   "name": "python3"
  },
  "language_info": {
   "codemirror_mode": {
    "name": "ipython",
    "version": 3
   },
   "file_extension": ".py",
   "mimetype": "text/x-python",
   "name": "python",
   "nbconvert_exporter": "python",
   "pygments_lexer": "ipython3",
   "version": "3.11.2"
  },
  "orig_nbformat": 4
 },
 "nbformat": 4,
 "nbformat_minor": 2
}
