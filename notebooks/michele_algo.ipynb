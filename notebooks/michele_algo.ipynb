{
 "cells": [
  {
   "attachments": {},
   "cell_type": "markdown",
   "metadata": {},
   "source": [
    "# Measuring polarization of networks\n",
    "\n",
    "This notebook uses Micheles method of measuring the polarity of a network from node values.\n",
    "\n",
    "The value we use is the title embeddings."
   ]
  },
  {
   "cell_type": "code",
   "execution_count": null,
   "metadata": {},
   "outputs": [],
   "source": [
    "import sys\n",
    "sys.path.append('../')\n",
    "from py_files.michele_algo import *"
   ]
  },
  {
   "cell_type": "code",
   "execution_count": null,
   "metadata": {},
   "outputs": [],
   "source": [
    "# networks to run and print results from\n",
    "network_list = [\n",
    "    ['gaming', '../data/date_folders/april_4/graphs/'],\n",
    "    ['tarkov_network', '../data/date_folders/march_19/graphs/'],\n",
    "    ['CallOfDuty', '../data/date_folders/april_18/graphs/'],\n",
    "    ['FIFA', '../data/date_folders/april_18/graphs/'],\n",
    "    ['politics_nan', '../data/date_folders/march_23/graphs/'],\n",
    "    ['worldnews', '../data/date_folders/april_23/graphs/'],\n",
    "    ['PoliticalDiscussion', '../data/date_folders/april_23/graphs/'],\n",
    "    ['ukpolitics', '../data/date_folders/april_23/graphs/'],\n",
    "    ['democrats', '../data/date_folders/april_23/graphs/'],\n",
    "    ['Republican', '../data/date_folders/april_23/graphs/']\n",
    "]"
   ]
  },
  {
   "cell_type": "code",
   "execution_count": null,
   "metadata": {},
   "outputs": [],
   "source": [
    "for subreddit, folderpath in network_list:\n",
    "    print(subreddit)\n",
    "    G = nx.read_gexf(f'{folderpath}{subreddit}.gexf')\n",
    "    print(do_ge(G))"
   ]
  }
 ],
 "metadata": {
  "kernelspec": {
   "display_name": "thesis",
   "language": "python",
   "name": "python3"
  },
  "language_info": {
   "codemirror_mode": {
    "name": "ipython",
    "version": 3
   },
   "file_extension": ".py",
   "mimetype": "text/x-python",
   "name": "python",
   "nbconvert_exporter": "python",
   "pygments_lexer": "ipython3",
   "version": "3.11.2"
  },
  "orig_nbformat": 4
 },
 "nbformat": 4,
 "nbformat_minor": 2
}
