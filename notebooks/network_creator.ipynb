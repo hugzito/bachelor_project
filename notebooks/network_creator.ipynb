{
 "cells": [
  {
   "attachments": {},
   "cell_type": "markdown",
   "metadata": {},
   "source": [
    "# Imports and other setup"
   ]
  },
  {
   "cell_type": "code",
   "execution_count": null,
   "metadata": {},
   "outputs": [],
   "source": [
    "import sys\n",
    "sys.path.append('../')\n",
    "from py_files.network_creator import *"
   ]
  },
  {
   "attachments": {},
   "cell_type": "markdown",
   "metadata": {},
   "source": [
    "## Creating, initially inspecting and saving subreddits\n",
    "\n",
    "Example filepath: '../data/19march/graphs/politics_network.gexf'\n",
    "\n",
    "Make sure the filepath exists before running (manually create them) as otherwise it will take ~12 mins to run and end up giving an error\n",
    "\n",
    "### r/politics - takes ~11 mins with 19march politics"
   ]
  },
  {
   "cell_type": "code",
   "execution_count": null,
   "metadata": {},
   "outputs": [],
   "source": [
    "# # grabbing scraped df\n",
    "# df_politics = pd.read_csv('../data/23march_chur/scrapes/politics.csv')\n",
    "\n",
    "# G_politics = full_pipeline(df_politics)\n",
    "\n",
    "# # saving network\n",
    "# nx.write_gexf(G_politics, '../data/23march_chur/graphs/politics_nan.gexf')"
   ]
  },
  {
   "attachments": {},
   "cell_type": "markdown",
   "metadata": {},
   "source": [
    "### r/music - takes ~8 mins with 2april music"
   ]
  },
  {
   "cell_type": "code",
   "execution_count": null,
   "metadata": {},
   "outputs": [],
   "source": [
    "# # grabbing scraped df\n",
    "# df_music = pd.read_csv('../data/2april/scrapes/2apr_2Music.csv')\n",
    "\n",
    "# G_music = full_pipeline(df_music)\n",
    "\n",
    "# # saving network\n",
    "# nx.write_gexf(G_music, '../data/2april/graphs/music.gexf')"
   ]
  },
  {
   "attachments": {},
   "cell_type": "markdown",
   "metadata": {},
   "source": [
    "### r/antiwork"
   ]
  },
  {
   "cell_type": "code",
   "execution_count": null,
   "metadata": {},
   "outputs": [],
   "source": [
    "# # grabbing scraped df\n",
    "# df_antiwork = pd.read_csv('../data/17april/scrapes/antiwork.csv')\n",
    "\n",
    "# G_antiwork = full_pipeline(df_antiwork)\n",
    "\n",
    "# # saving network\n",
    "# nx.write_gexf(G_antiwork, '../data/17april/graphs/antiwork.gexf')"
   ]
  },
  {
   "attachments": {},
   "cell_type": "markdown",
   "metadata": {},
   "source": [
    "### r/gaming - takes ~20 mins with 4april gaming"
   ]
  },
  {
   "cell_type": "code",
   "execution_count": null,
   "metadata": {},
   "outputs": [],
   "source": [
    "# # grabbing scraped df\n",
    "# df_gaming = pd.read_csv('../data/4april/scrapes/gaming.csv')\n",
    "\n",
    "# G_gaming = full_pipeline(df_gaming)\n",
    "\n",
    "# # saving network\n",
    "# nx.write_gexf(G_gaming, '../data/4april/graphs/gaming.gexf')"
   ]
  },
  {
   "attachments": {},
   "cell_type": "markdown",
   "metadata": {},
   "source": [
    "# Recreating networks without rounding title embeds"
   ]
  },
  {
   "cell_type": "code",
   "execution_count": null,
   "metadata": {},
   "outputs": [],
   "source": [
    "scrape_list = [\n",
    "    '../data/date_folders/april_24/scrapes/communism.csv',\n",
    "    '../data/date_folders/april_23/scrapes/PoliticalDiscussion.csv',\n",
    "    '../data/date_folders/april_23/scrapes/Republican.csv',\n",
    "    '../data/date_folders/april_23/scrapes/democrats.csv',\n",
    "    '../data/date_folders/april_23/scrapes/ukpolitics.csv',\n",
    "    '../data/date_folders/april_23/scrapes/worldnews.csv',\n",
    "    '../data/date_folders/april_18/scrapes/CallOfDuty.csv',\n",
    "    '../data/date_folders/april_18/scrapes/FIFA.csv',\n",
    "    '../data/date_folders/april_17/scrapes/antiwork.csv',\n",
    "    '../data/date_folders/april_4/scrapes/gaming.csv',\n",
    "    '../data/date_folders/march_23/scrapes/politics.csv',\n",
    "    '../data/date_folders/march_19/scrapes/EscapefromTarkov.csv',\n",
    "    '../data/date_folders/may_7/scrapes/Cooking.csv'\n",
    "]\n",
    "\n",
    "save_paths = [\n",
    "    '../data/date_folders/april_24/graphs/communism.gexf',\n",
    "    '../data/date_folders/april_23/graphs/PoliticalDiscussion.gexf',\n",
    "    '../data/date_folders/april_23/graphs/Republican.gexf',\n",
    "    '../data/date_folders/april_23/graphs/democrats.gexf',\n",
    "    '../data/date_folders/april_23/graphs/ukpolitics.gexf',\n",
    "    '../data/date_folders/april_23/graphs/worldnews.gexf',\n",
    "    '../data/date_folders/april_18/graphs/CallOfDuty.gexf',\n",
    "    '../data/date_folders/april_18/graphs/FIFA.gexf',\n",
    "    '../data/date_folders/april_17/graphs/antiwork.gexf',\n",
    "    '../data/date_folders/april_4/graphs/gaming.gexf',\n",
    "    '../data/date_folders/march_23/graphs/politics.gexf',\n",
    "    '../data/date_folders/march_19/graphs/tarkov.gexf',\n",
    "    '../data/date_folders/may_7/graphs/Cooking.gexf'\n",
    "]"
   ]
  },
  {
   "cell_type": "code",
   "execution_count": null,
   "metadata": {},
   "outputs": [],
   "source": [
    "for scrape_path, save_path in zip(scrape_list, save_paths):\n",
    "    print(scrape_path)\n",
    "    print(save_path)\n",
    "    df = pd.read_csv(scrape_path)\n",
    "    G = full_pipeline(df)\n",
    "    nx.write_gexf(G, save_path)"
   ]
  },
  {
   "cell_type": "code",
   "execution_count": null,
   "metadata": {},
   "outputs": [],
   "source": [
    "# grabbing scraped df\n",
    "df_cooking = pd.read_csv('../data/date_folders/may_7/scrapes/Cooking.csv')\n",
    "G_cooking = full_pipeline(df_cooking)\n",
    "nx.write_gexf(G_cooking, '../data/date_folders/may_7/graphs/Cooking.gexf')"
   ]
  },
  {
   "cell_type": "code",
   "execution_count": null,
   "metadata": {},
   "outputs": [],
   "source": [
    "# grabbing scraped df\n",
    "df_antiwork = pd.read_csv('../data/date_folders/april_24/scrapes/communism.csv')\n",
    "\n",
    "G_antiwork = full_pipeline(df_antiwork)\n",
    "\n",
    "# saving network\n",
    "nx.write_gexf(G_antiwork, '../data/date_folders/april_24/graphs/communism.gexf')"
   ]
  },
  {
   "cell_type": "code",
   "execution_count": null,
   "metadata": {},
   "outputs": [],
   "source": [
    "# grabbing scraped df\n",
    "df_antiwork = pd.read_csv('../data/date_folders/april_18/scrapes/CallOfDuty.csv')\n",
    "\n",
    "G_antiwork = full_pipeline(df_antiwork)\n",
    "\n",
    "# saving network\n",
    "nx.write_gexf(G_antiwork, '../data/date_folders/april_18/graphs/CallOfDuty.gexf')"
   ]
  },
  {
   "cell_type": "code",
   "execution_count": null,
   "metadata": {},
   "outputs": [],
   "source": [
    "# grabbing scraped df\n",
    "df_antiwork = pd.read_csv('../data/date_folders/april_18/scrapes/FIFA.csv')\n",
    "\n",
    "G_antiwork = full_pipeline(df_antiwork)\n",
    "\n",
    "# saving network\n",
    "nx.write_gexf(G_antiwork, '../data/date_folders/april_18/graphs/FIFA.gexf')"
   ]
  },
  {
   "cell_type": "code",
   "execution_count": null,
   "metadata": {},
   "outputs": [],
   "source": []
  }
 ],
 "metadata": {
  "kernelspec": {
   "display_name": "thesis",
   "language": "python",
   "name": "python3"
  },
  "language_info": {
   "codemirror_mode": {
    "name": "ipython",
    "version": 3
   },
   "file_extension": ".py",
   "mimetype": "text/x-python",
   "name": "python",
   "nbconvert_exporter": "python",
   "pygments_lexer": "ipython3",
   "version": "3.11.2"
  },
  "vscode": {
   "interpreter": {
    "hash": "61e4c5a44577c9d3a732aa59f9fc6dbafcc8b856f5b342647508b14721abc5f9"
   }
  }
 },
 "nbformat": 4,
 "nbformat_minor": 2
}
