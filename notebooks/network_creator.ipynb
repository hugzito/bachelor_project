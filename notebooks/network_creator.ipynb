{
 "cells": [
  {
   "cell_type": "markdown",
   "metadata": {},
   "source": [
    "# Imports and other setup"
   ]
  },
  {
   "cell_type": "code",
   "execution_count": null,
   "metadata": {},
   "outputs": [],
   "source": [
    "# data processing\n",
    "import pandas as pd\n",
    "import numpy as np\n",
    "from numpy import genfromtxt\n",
    "\n",
    "# graphs / figures\n",
    "import matplotlib.pyplot as plt\n",
    "%matplotlib inline\n",
    "import seaborn as sns\n",
    "import networkx as nx\n",
    "\n",
    "# sklearn / models\n",
    "from sklearn.decomposition import PCA\n",
    "from sklearn.cluster import KMeans, SpectralClustering, AgglomerativeClustering, FeatureAgglomeration\n",
    "from sklearn.preprocessing import StandardScaler\n",
    "from sklearn.metrics import classification_report\n",
    "from sklearn.model_selection import train_test_split\n",
    "from sklearn.preprocessing import OneHotEncoder\n",
    "\n",
    "# nltk\n",
    "import nltk\n",
    "from nltk.corpus import stopwords\n",
    "\n",
    "# others\n",
    "import os\n",
    "import sys\n",
    "sys.path.append('../')\n",
    "from embedding_functions_hugo.embedding_functions import *\n",
    "from tqdm import tqdm\n",
    "from bs4 import BeautifulSoup\n",
    "import re\n",
    "from happytransformer import HappyTextClassification\n",
    "import praw\n",
    "\n",
    "def shorten_and_clean_dataset (comment_csv, comment_column : str, desired_comment_length : int):\n",
    "    dataframe = pd.read_csv(comment_csv)\n",
    "    dataframe['cleaned_text'] = prep_pipeline(dataframe, comment_column)\n",
    "    dataframe['short'] = shorten_sens(dataframe['cleaned_text'], desired_comment_length)\n",
    "    return dataframe"
   ]
  },
  {
   "cell_type": "markdown",
   "metadata": {},
   "source": [
    "# Data Processing"
   ]
  },
  {
   "cell_type": "markdown",
   "metadata": {},
   "source": [
    "### Function for getting post_title, post_author, post_id, and the embedded title texts"
   ]
  },
  {
   "cell_type": "code",
   "execution_count": null,
   "metadata": {},
   "outputs": [],
   "source": [
    "def do_post_titles(df):\n",
    "    texts, authors, post_ids = [], [], []\n",
    "    title_author_set = set(zip(df['post_title'], df['post_author'], df['post_id']))\n",
    "\n",
    "    for text, author, post_id in  title_author_set:\n",
    "        texts.append(text)\n",
    "        authors.append(author)\n",
    "        post_ids.append(post_id)\n",
    "    \n",
    "    title_embeddings = embed_comments(texts)\n",
    "    return pd.DataFrame(data=[post_ids, authors, texts, title_embeddings]).T.rename(columns={0 : 'post_id', 1: 'post_author', 2: 'post_title', 3: 'embeddings'})"
   ]
  },
  {
   "attachments": {},
   "cell_type": "markdown",
   "metadata": {},
   "source": [
    "### filtering out unwanted users"
   ]
  },
  {
   "cell_type": "code",
   "execution_count": null,
   "metadata": {},
   "outputs": [],
   "source": [
    "def remove_nan(df):\n",
    "    '''Takes dataframe as input, removed rows where username is nan'''\n",
    "\n",
    "    for idx, row in df.iterrows():\n",
    "        usr1 = row[2]\n",
    "        usr2 = row[4]\n",
    "\n",
    "        if type(usr1) != str or type(usr2) != str:\n",
    "            df.drop(idx, axis=0, inplace=True)\n",
    "    \n",
    "    return df"
   ]
  },
  {
   "cell_type": "markdown",
   "metadata": {},
   "source": [
    "### Getting final dataframe that we can use"
   ]
  },
  {
   "cell_type": "code",
   "execution_count": null,
   "metadata": {},
   "outputs": [],
   "source": [
    "def shorten_comment_text(df):\n",
    "    '''Takes dataframe as input, shortens comment text, creates short_text column and removes comment_text column'''\n",
    "    \n",
    "    # getting all commenters that have also made a post\n",
    "    shortened_df = df.query('comment_author in post_author').copy()\n",
    "\n",
    "    # cleaning their comments and saving to new column\n",
    "    clean_text = prep_pipeline(shortened_df, 'comment_text', loud=False)\n",
    "    shortened_df['short_text'] = shorten_sens(clean_text, 50)\n",
    "    shortened_df.drop('comment_text', axis=1, inplace=True)\n",
    "\n",
    "    return shortened_df"
   ]
  },
  {
   "cell_type": "code",
   "execution_count": null,
   "metadata": {},
   "outputs": [],
   "source": [
    "def get_embed_pairs(df):\n",
    "   '''Takes dataframe as input, combines all user title texts into one\n",
    "      Returns embed_pairs'''\n",
    "    \n",
    "   # for each poster, appending all of their post text into one long string\n",
    "   embed_pairs = {}\n",
    "   for text, author in zip(df['post_title'], df['post_author']):\n",
    "      if author not in embed_pairs.keys():\n",
    "         embed_pairs[author] = text\n",
    "      else:\n",
    "         embed_pairs[author] += ' '+text\n",
    "\n",
    "   return embed_pairs\n",
    "\n",
    "def get_title_embeds(embed_pairs):\n",
    "   '''Takes embed_pairs as input. Embeds the post titles and returns an array of them.'''\n",
    "\n",
    "   # embedding all post titles and reducing them to 1 dimension\n",
    "   embeds = dict(zip(embed_pairs.keys(), embed_comments(list(embed_pairs.values()))))\n",
    "   embeds = reduce_to_one_dimension_kmeans(embeds)[-1]\n",
    "\n",
    "   return embeds"
   ]
  },
  {
   "cell_type": "code",
   "execution_count": null,
   "metadata": {},
   "outputs": [],
   "source": [
    "def reduce_to_poster_commentors(df):\n",
    "    '''given a df, reduces rows recursively until all commentors and posters are both commentors and posters'''\n",
    "\n",
    "    # might be faster with doing query multiple times until no changes\n",
    "\n",
    "    done = False\n",
    "    initialized = False\n",
    "    while done != True:\n",
    "\n",
    "        comment_authors = list(df['comment_author'])\n",
    "        post_authors = list(df['post_author'])\n",
    "\n",
    "        if initialized == False:\n",
    "            before = 0\n",
    "            initialized = True\n",
    "        else:\n",
    "            before = len(users_to_include)\n",
    "\n",
    "        users_to_include = set()\n",
    "\n",
    "        after = 0\n",
    "\n",
    "        for idx, row in df.iterrows():\n",
    "\n",
    "            commentor = row[2]\n",
    "\n",
    "            if commentor in post_authors:\n",
    "                if commentor not in users_to_include:\n",
    "                    # print(commentor)\n",
    "                    users_to_include.add(commentor)\n",
    "                    after += 1\n",
    "            \n",
    "            else:\n",
    "                df.drop(idx, inplace=True)\n",
    "\n",
    "        diff = after - before\n",
    "        \n",
    "        if diff == 0:\n",
    "            print(f'before = {before} and after = {after}, so diff = {diff}, done!')\n",
    "            done = True\n",
    "        else:\n",
    "            print(f'before = {before} and after = {after}, so diff = {diff}, relooping...')\n",
    "\n",
    "    return df"
   ]
  },
  {
   "cell_type": "markdown",
   "metadata": {},
   "source": [
    "# Creating Network"
   ]
  },
  {
   "cell_type": "code",
   "execution_count": null,
   "metadata": {},
   "outputs": [],
   "source": [
    "def create_network(df):\n",
    "    '''Takes dataframe as input, creates a directed networkx network and returns it'''\n",
    "\n",
    "    # Initializing text classification model\n",
    "    model = HappyTextClassification(model_type='DISTILBERT', model_name='distilbert-base-uncased-finetuned-sst-2-english', num_labels=2)\n",
    "\n",
    "    # initializing networkx directed graph\n",
    "    G = nx.DiGraph()\n",
    "\n",
    "    # # ensuring only looking at users that have both commented and posted\n",
    "    # df = df.query('comment_author in post_author')\n",
    "\n",
    "    print('doing embed_pairs')\n",
    "\n",
    "    # combining users title texts into one\n",
    "    embed_pairs = get_embed_pairs(df)\n",
    "\n",
    "    print(len(embed_pairs))\n",
    "\n",
    "    print('doing embeds')\n",
    "\n",
    "    # embedding those combined title texts\n",
    "    embeds = get_title_embeds(embed_pairs)\n",
    "\n",
    "    print(len(embeds))\n",
    "\n",
    "    # adding each post author as a node to network, with their 1 dimensional title embeddings as an attribute (named polarity)\n",
    "    print('\\n===== adding nodes ======\\n')\n",
    "    for i, j in zip(embed_pairs.keys(), embeds):\n",
    "        print(f'added {i} with polarity {j[0]}')\n",
    "        G.add_node(i, polarity=j[0])\n",
    "\n",
    "    # getting list of user pairs for comments left on posts\n",
    "    pairings = list(zip(df['comment_author'], df['post_author']))\n",
    "    print(len(pairings))\n",
    "\n",
    "    print('doing polarities')\n",
    "\n",
    "    # classifying sentiments of comment texts and saving them in list \"polarities\"\n",
    "    polarities = []\n",
    "    signs = []\n",
    "    for comment in df['short_text']:\n",
    "        classification = model.classify_text(comment)\n",
    "        polarities.append(classification.score)\n",
    "\n",
    "        if classification.label == 'POSITIVE':\n",
    "            signs.append(1)\n",
    "        elif classification.label == 'NEGATIVE':\n",
    "            signs.append(-1)\n",
    "    \n",
    "    print(len(polarities))\n",
    "\n",
    "    print('\\n===== adding edges =====\\n')\n",
    "    # adding edges to graph, where each edge is a comment left by user a to user b, and its attribute is the sentiment of the comment\n",
    "    for pair, polarity, sign in zip(pairings, polarities, signs):\n",
    "        if pair[0] != pair[1]: # avoiding self edge connections\n",
    "            # need positive or negative for sign\n",
    "            print(f'adding edge from {pair[0]} to {pair[1]} with sentiment {polarity} and label {sign}')\n",
    "            G.add_edge(u_of_edge=pair[0], v_of_edge=pair[1], sentiment=polarity, sign=sign)\n",
    "\n",
    "    # drawing network\n",
    "    nx.draw(G)\n",
    "\n",
    "    return G"
   ]
  },
  {
   "cell_type": "code",
   "execution_count": null,
   "metadata": {},
   "outputs": [],
   "source": [
    "def full_pipeline(df):\n",
    "    '''does everything and returns network'''\n",
    "    # doing pre-network stuff\n",
    "    print('removing nan...')\n",
    "    df = remove_nan(df)\n",
    "    print('reducing to poster commentors...')\n",
    "    df = reduce_to_poster_commentors(df)\n",
    "    print('shortening comment text...')\n",
    "    df = shorten_comment_text(df)\n",
    "\n",
    "    print('creating network...')\n",
    "    # creating and drawing network\n",
    "    G = create_network(df)\n",
    "\n",
    "    return G"
   ]
  },
  {
   "cell_type": "markdown",
   "metadata": {},
   "source": [
    "## Creating, initially inspecting and saving subreddits\n",
    "\n",
    "Example filepath: '../data/19march/graphs/politics_network.gexf'\n",
    "\n",
    "Make sure the filepath exists before running (manually create them) as otherwise it will take ~12 mins to run and end up giving an error\n",
    "\n",
    "### r/politics - takes ~11 mins with 19march politics"
   ]
  },
  {
   "cell_type": "code",
   "execution_count": null,
   "metadata": {},
   "outputs": [],
   "source": [
    "# # grabbing scraped df\n",
    "# df_politics = pd.read_csv('../data/23march_chur/scrapes/politics.csv')\n",
    "\n",
    "# G_politics = full_pipeline(df_politics)\n",
    "\n",
    "# # saving network\n",
    "# nx.write_gexf(G_politics, '../data/23march_chur/graphs/politics_nan.gexf')"
   ]
  },
  {
   "attachments": {},
   "cell_type": "markdown",
   "metadata": {},
   "source": [
    "### r/music - takes ~8 mins with 2april music"
   ]
  },
  {
   "cell_type": "code",
   "execution_count": null,
   "metadata": {},
   "outputs": [],
   "source": [
    "# # grabbing scraped df\n",
    "# df_music = pd.read_csv('../data/2april/scrapes/2apr_2Music.csv')\n",
    "\n",
    "# G_music = full_pipeline(df_music)\n",
    "\n",
    "# # saving network\n",
    "# nx.write_gexf(G_music, '../data/2april/graphs/music.gexf')"
   ]
  },
  {
   "attachments": {},
   "cell_type": "markdown",
   "metadata": {},
   "source": [
    "### r/antiwork"
   ]
  },
  {
   "cell_type": "code",
   "execution_count": null,
   "metadata": {},
   "outputs": [],
   "source": [
    "# # grabbing scraped df\n",
    "# df_antiwork = pd.read_csv('../data/17april/scrapes/antiwork.csv')\n",
    "\n",
    "# G_antiwork = full_pipeline(df_antiwork)\n",
    "\n",
    "# # saving network\n",
    "# nx.write_gexf(G_antiwork, '../data/17april/graphs/antiwork.gexf')"
   ]
  },
  {
   "attachments": {},
   "cell_type": "markdown",
   "metadata": {},
   "source": [
    "### r/gaming - takes ~20 mins with 4april gaming"
   ]
  },
  {
   "cell_type": "code",
   "execution_count": null,
   "metadata": {},
   "outputs": [],
   "source": [
    "# # grabbing scraped df\n",
    "# df_gaming = pd.read_csv('../data/4april/scrapes/gaming.csv')\n",
    "\n",
    "# G_gaming = full_pipeline(df_gaming)\n",
    "\n",
    "# # saving network\n",
    "# nx.write_gexf(G_gaming, '../data/4april/graphs/gaming.gexf')"
   ]
  },
  {
   "attachments": {},
   "cell_type": "markdown",
   "metadata": {},
   "source": [
    "# Recreating networks without rounding title embeds"
   ]
  },
  {
   "cell_type": "code",
   "execution_count": null,
   "metadata": {},
   "outputs": [],
   "source": [
    "scrape_list = [\n",
    "    '../data/date_folders/april_24/scrapes/communism.csv',\n",
    "    '../data/date_folders/april_23/scrapes/PoliticalDiscussion.csv',\n",
    "    '../data/date_folders/april_23/scrapes/Republican.csv',\n",
    "    '../data/date_folders/april_23/scrapes/democrats.csv',\n",
    "    '../data/date_folders/april_23/scrapes/ukpolitics.csv',\n",
    "    '../data/date_folders/april_23/scrapes/worldnews.csv',\n",
    "    '../data/date_folders/april_18/scrapes/CallOfDuty.csv',\n",
    "    '../data/date_folders/april_18/scrapes/FIFA.csv',\n",
    "    '../data/date_folders/april_17/scrapes/antiwork.csv',\n",
    "    '../data/date_folders/april_4/scrapes/gaming.csv',\n",
    "    '../data/date_folders/march_23/scrapes/politics.csv',\n",
    "    '../data/date_folders/march_19/scrapes/EscapefromTarkov.csv'\n",
    "]\n",
    "\n",
    "save_paths = [\n",
    "    '../data/date_folders/april_24/graphs/communism.gexf',\n",
    "    '../data/date_folders/april_23/graphs/PoliticalDiscussion.gexf',\n",
    "    '../data/date_folders/april_23/graphs/Republican.gexf',\n",
    "    '../data/date_folders/april_23/graphs/democrats.gexf',\n",
    "    '../data/date_folders/april_23/graphs/ukpolitics.gexf',\n",
    "    '../data/date_folders/april_23/graphs/worldnews.gexf',\n",
    "    '../data/date_folders/april_18/graphs/CallOfDuty.gexf',\n",
    "    '../data/date_folders/april_18/graphs/FIFA.gexf',\n",
    "    '../data/date_folders/april_17/graphs/antiwork.gexf',\n",
    "    '../data/date_folders/april_4/graphs/gaming.gexf',\n",
    "    '../data/date_folders/march_23/graphs/politics.gexf',\n",
    "    '../data/date_folders/march_19/graphs/tarkov.gexf'\n",
    "]"
   ]
  },
  {
   "cell_type": "code",
   "execution_count": null,
   "metadata": {},
   "outputs": [],
   "source": [
    "for scrape_path, save_path in zip(scrape_list, save_paths):\n",
    "    print(scrape_path)\n",
    "    print(save_path)\n",
    "    df = pd.read_csv(scrape_path)\n",
    "    G = full_pipeline(df)\n",
    "    nx.write_gexf(G, save_path)"
   ]
  },
  {
   "cell_type": "code",
   "execution_count": null,
   "metadata": {},
   "outputs": [],
   "source": [
    "# grabbing scraped df\n",
    "df_antiwork = pd.read_csv('../data/date_folders/april_24/scrapes/communism.csv')\n",
    "\n",
    "G_antiwork = full_pipeline(df_antiwork)\n",
    "\n",
    "# saving network\n",
    "nx.write_gexf(G_antiwork, '../data/date_folders/april_24/graphs/communism.gexf')"
   ]
  },
  {
   "cell_type": "code",
   "execution_count": null,
   "metadata": {},
   "outputs": [],
   "source": [
    "# grabbing scraped df\n",
    "df_antiwork = pd.read_csv('../data/date_folders/april_18/scrapes/CallOfDuty.csv')\n",
    "\n",
    "G_antiwork = full_pipeline(df_antiwork)\n",
    "\n",
    "# saving network\n",
    "nx.write_gexf(G_antiwork, '../data/date_folders/april_18/graphs/CallOfDuty.gexf')"
   ]
  },
  {
   "cell_type": "code",
   "execution_count": null,
   "metadata": {},
   "outputs": [],
   "source": [
    "# grabbing scraped df\n",
    "df_antiwork = pd.read_csv('../data/date_folders/april_18/scrapes/FIFA.csv')\n",
    "\n",
    "G_antiwork = full_pipeline(df_antiwork)\n",
    "\n",
    "# saving network\n",
    "nx.write_gexf(G_antiwork, '../data/date_folders/april_18/graphs/FIFA.gexf')"
   ]
  },
  {
   "cell_type": "code",
   "execution_count": null,
   "metadata": {},
   "outputs": [],
   "source": []
  }
 ],
 "metadata": {
  "kernelspec": {
   "display_name": "thesis",
   "language": "python",
   "name": "python3"
  },
  "language_info": {
   "codemirror_mode": {
    "name": "ipython",
    "version": 3
   },
   "file_extension": ".py",
   "mimetype": "text/x-python",
   "name": "python",
   "nbconvert_exporter": "python",
   "pygments_lexer": "ipython3",
   "version": "3.10.9"
  },
  "vscode": {
   "interpreter": {
    "hash": "61e4c5a44577c9d3a732aa59f9fc6dbafcc8b856f5b342647508b14721abc5f9"
   }
  }
 },
 "nbformat": 4,
 "nbformat_minor": 2
}
