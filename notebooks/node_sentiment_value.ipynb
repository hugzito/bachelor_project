{
 "cells": [
  {
   "cell_type": "markdown",
   "metadata": {},
   "source": [
    "# Including edge sentiment values in polarity score"
   ]
  },
  {
   "cell_type": "markdown",
   "metadata": {},
   "source": [
    "### Imports"
   ]
  },
  {
   "cell_type": "code",
   "execution_count": 50,
   "metadata": {},
   "outputs": [],
   "source": [
    "import pandas as pd\n",
    "import networkx as nx\n",
    "import statistics"
   ]
  },
  {
   "cell_type": "markdown",
   "metadata": {},
   "source": [
    "### Functions"
   ]
  },
  {
   "cell_type": "code",
   "execution_count": null,
   "metadata": {},
   "outputs": [],
   "source": [
    "G = nx.read_gexf('../data/19march/graphs/HuntShowdown_network.gexf')\n",
    "\n",
    "node_polarity_dict = {}\n",
    "\n",
    "for node in G.nodes(data=True):\n",
    "    current_node = node[0]\n",
    "\n",
    "    if current_node not in node_polarity_dict.keys():\n",
    "        node_polarity_dict[current_node] = []\n",
    "\n",
    "    for edge in G.edges(data=True):\n",
    "        to_node = edge[1]\n",
    "\n",
    "        if to_node == current_node:\n",
    "            sentiment = edge[2]['attr']\n",
    "            node_polarity_dict[current_node].append(sentiment)\n",
    "\n",
    "print(node_polarity_dict)"
   ]
  },
  {
   "cell_type": "markdown",
   "metadata": {},
   "source": [
    "#### Polatization method 1: Measuring everyone's agreement with each other (Basically standard deviation, I later realized)"
   ]
  },
  {
   "cell_type": "code",
   "execution_count": 120,
   "metadata": {},
   "outputs": [
    {
     "name": "stdout",
     "output_type": "stream",
     "text": [
      "0.16666666666666669 ~0\n",
      "0.16666666666666663 ~0\n",
      "0.13333333333333336 ~0\n",
      "0.34285714285714286 ~1\n",
      "0.0 0\n",
      "0.0 0\n",
      "0.0 0\n",
      "0.5714285714285714 1\n",
      "0.6 1\n",
      "1 1\n"
     ]
    }
   ],
   "source": [
    "high_neg = [0, 0, 0, 0.1, 0.1, 0, 0.2]\n",
    "high_pos = [1, 1, 1, 0.9, 0.9, 1, 0.8]\n",
    "high_mid = [0.5, 0.5, 0.5, 0.4, 0.4, 0.5, 0.6]\n",
    "high_pol = [0.3, 0.3, 0.7, 0.7, 0.2, 0.2, 0.8, 0.8]\n",
    "total_neg = [0, 0, 0, 0, 0, 0, 0]\n",
    "total_pos = [1, 1, 1, 1, 1, 1, 1]\n",
    "total_mid = [0.5, 0.5, 0.5, 0.5, 0.5, 0.5, 0.5]\n",
    "total_pol = [0, 0, 0, 0, 1, 1, 1, 1]\n",
    "mixed = [0, 0.2, 0.4, 0.6, 0.8, 1]\n",
    "binary = [0, 1]\n",
    "\n",
    "test_scores = [high_neg, high_pos, high_mid, high_pol, total_neg, total_pos, total_mid, total_pol, mixed, binary]\n",
    "ideal_out = ['~0', '~0', '~0', '~1', '0', '0', '0', '1', '1', '1']\n",
    "\n",
    "def pol_score(lis):\n",
    "    '''Takes in a list of numerical values, outputs one single float representative of the polarization of the whole list'''\n",
    "    \n",
    "    #Initialize the average as the first element\n",
    "    current_average = lis[0]\n",
    "    #total_score = 0\n",
    "    value_count = 1\n",
    "    \n",
    "    #Skip the first element because it was already included in the average\n",
    "    for n in lis[1:]:\n",
    "\n",
    "        score = abs((current_average - n))\n",
    "\n",
    "#         if score < 0.5:\n",
    "#             total_score -= score\n",
    "#         else:\n",
    "#             total_score += score\n",
    "        current_average = ((current_average * value_count) + n)/(value_count+1)\n",
    "\n",
    "        value_count +=1\n",
    "\n",
    "        \n",
    "    return score\n",
    "\n",
    "for idx, i in enumerate(test_scores):\n",
    "    print(pol_score(i), ideal_out[idx])"
   ]
  },
  {
   "cell_type": "code",
   "execution_count": 97,
   "metadata": {},
   "outputs": [
    {
     "name": "stdout",
     "output_type": "stream",
     "text": [
      "1.3768926368215255\n",
      "norm: 0.5792826379666692\n",
      "0.08344803859524395\n",
      "norm: 0.0770208036035022\n",
      "0.1420723210410729\n",
      "norm: 0.12439870787829337\n",
      "0.5451081150953975\n",
      "norm: 0.3527960987129639\n",
      "0.0\n",
      "0.0\n",
      "norm: 0.0\n",
      "0.0\n",
      "norm: 0.0\n",
      "1.0690449676496976\n",
      "norm: 0.5166852264521172\n",
      "0.7483314773547883\n",
      "norm: 0.4280260848972461\n"
     ]
    }
   ],
   "source": [
    "for x in test_scores:\n",
    "    \n",
    "    mean = statistics.mean(x)\n",
    "    std = statistics.stdev(x)\n",
    "    try:\n",
    "        pol = std/mean\n",
    "        print(pol)\n",
    "        print ('norm:',pol/(pol+1))\n",
    "    except:\n",
    "        print (std)"
   ]
  },
  {
   "cell_type": "code",
   "execution_count": 116,
   "metadata": {
    "scrolled": true
   },
   "outputs": [
    {
     "name": "stdout",
     "output_type": "stream",
     "text": [
      "0.3265306122448979 ~0\n",
      "0.019789734075448373 ~0\n",
      "0.02881152460984393 ~0\n",
      "0.125 ~1\n",
      "nan 0\n",
      "0.0 0\n",
      "0.0 0\n",
      "0.25 1\n",
      "0.19999999999999996 1\n",
      "0.4444444444444444 1\n"
     ]
    },
    {
     "name": "stderr",
     "output_type": "stream",
     "text": [
      "C:\\Users\\thede\\AppData\\Local\\Temp\\ipykernel_9244\\362200649.py:16: RuntimeWarning: invalid value encountered in double_scalars\n",
      "  gini_coefficient = 2 * (sum_absolute_deviations / (np.sum(numbers) * len(numbers)))\n"
     ]
    }
   ],
   "source": [
    "import numpy as np\n",
    "\n",
    "def calculate_polarization(numbers):\n",
    "    \"\"\"\n",
    "    Calculates polarization from numerical values using a modified Gini coefficient approach.\n",
    "    Takes in a list of numbers, outputs a single float representing the polarity\n",
    "    \"\"\"\n",
    "    numbers = np.array(numbers)\n",
    "\n",
    "    mean = np.mean(numbers)\n",
    "\n",
    "    absolute_deviations = np.abs(numbers - mean)\n",
    "\n",
    "    sum_absolute_deviations = np.sum(absolute_deviations)\n",
    "\n",
    "    gini_coefficient = 2 * (sum_absolute_deviations / (np.sum(numbers) * len(numbers)))\n",
    "\n",
    "    polarization = 1-gini_coefficient\n",
    "\n",
    "    return abs(polarization-1)\n",
    "\n",
    "\n",
    "\n",
    "#Definitetly needs some tweeking, not finalized\n",
    "\n",
    "for idx, i in enumerate(test_scores):\n",
    "    print(calculate_polarization(i), ideal_out[idx])"
   ]
  },
  {
   "cell_type": "code",
   "execution_count": 117,
   "metadata": {},
   "outputs": [
    {
     "data": {
      "text/plain": [
       "0.0"
      ]
     },
     "execution_count": 117,
     "metadata": {},
     "output_type": "execute_result"
    }
   ],
   "source": [
    "np.sum(np.array(total_pol) - statistics.mean(total_pol))"
   ]
  },
  {
   "cell_type": "code",
   "execution_count": 118,
   "metadata": {},
   "outputs": [
    {
     "data": {
      "text/plain": [
       "0.25"
      ]
     },
     "execution_count": 118,
     "metadata": {},
     "output_type": "execute_result"
    }
   ],
   "source": [
    "calculate_polarization(total_pol)"
   ]
  }
 ],
 "metadata": {
  "kernelspec": {
   "display_name": "Python 3 (ipykernel)",
   "language": "python",
   "name": "python3"
  },
  "language_info": {
   "codemirror_mode": {
    "name": "ipython",
    "version": 3
   },
   "file_extension": ".py",
   "mimetype": "text/x-python",
   "name": "python",
   "nbconvert_exporter": "python",
   "pygments_lexer": "ipython3",
   "version": "3.10.10"
  }
 },
 "nbformat": 4,
 "nbformat_minor": 2
}
